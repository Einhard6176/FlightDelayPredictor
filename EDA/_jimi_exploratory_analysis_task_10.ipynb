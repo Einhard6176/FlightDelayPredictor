{
 "cells": [
  {
   "cell_type": "markdown",
   "metadata": {},
   "source": [
    "#### Set up connection to database"
   ]
  },
  {
   "cell_type": "code",
   "execution_count": 1,
   "metadata": {},
   "outputs": [],
   "source": [
    "import psycopg2\n",
    "import pandas as pd\n",
    "\n",
    "host = 'mid-term-project.ca2jkepgjpne.us-east-2.rds.amazonaws.com'\n",
    "port = \"5432\"\n",
    "user = 'lhl_student'\n",
    "pwd = 'lhl_student'\n",
    "database = 'mid_term_project'\n",
    "\n",
    "conn = psycopg2.connect(user = user,\n",
    "                              password = pwd,\n",
    "                              host = host,\n",
    "                              port = port,\n",
    "                              database = database)\n",
    "def query(query, conn=conn):\n",
    "    return pd.read_sql(query, conn)"
   ]
  },
  {
   "cell_type": "markdown",
   "metadata": {},
   "source": [
    "###### "
   ]
  },
  {
   "cell_type": "markdown",
   "metadata": {},
   "source": [
    "###### "
   ]
  },
  {
   "cell_type": "markdown",
   "metadata": {},
   "source": [
    "# Task 10"
   ]
  },
  {
   "cell_type": "markdown",
   "metadata": {},
   "source": [
    "### Do bigger delays lead to bigger fuel comsumption per passenger?"
   ]
  },
  {
   "cell_type": "markdown",
   "metadata": {},
   "source": [
    "We need to do four things to answer this as accurate as possible:\n",
    "- Find out average monthly delay per air carrier (monthly delay is sum of all delays in 1 month)\n",
    "- Find out distance covered monthly by different air carriers\n",
    "- Find out number of passengers that were carried by different air carriers\n",
    "- Find out total fuel comsumption per air carrier.\n",
    "\n",
    "Use this information to get the average fuel comsumption per passenger per km. Is this higher for the airlines with bigger average delays?"
   ]
  },
  {
   "cell_type": "markdown",
   "metadata": {},
   "source": [
    "###### "
   ]
  },
  {
   "cell_type": "markdown",
   "metadata": {},
   "source": [
    "#### Find out average monthly delay per air carrier (monthly delay is sum of all delays in 1 month)"
   ]
  },
  {
   "cell_type": "markdown",
   "metadata": {},
   "source": [
    "#### Find out distance covered monthly by different air carriers"
   ]
  },
  {
   "cell_type": "code",
   "execution_count": 2,
   "metadata": {},
   "outputs": [],
   "source": [
    "#df_carrier_flights = query('select fl_date, op_unique_carrier, arr_delay, distance from flights')"
   ]
  },
  {
   "cell_type": "code",
   "execution_count": 3,
   "metadata": {},
   "outputs": [],
   "source": [
    "#df_carrier_flights.to_csv('task10_carrier_flights_query.csv', index=False )"
   ]
  },
  {
   "cell_type": "code",
   "execution_count": 4,
   "metadata": {},
   "outputs": [],
   "source": [
    "df_carrier_flights = pd.read_csv('task10_carrier_flights_query.csv')"
   ]
  },
  {
   "cell_type": "code",
   "execution_count": 5,
   "metadata": {},
   "outputs": [],
   "source": [
    "df_carrier_flights['fl_date'] = pd.to_datetime(df_carrier_flights['fl_date'], format='%Y-%m-%d')"
   ]
  },
  {
   "cell_type": "code",
   "execution_count": 6,
   "metadata": {},
   "outputs": [],
   "source": [
    "df_carrier_flights['fl_month'] = df_carrier_flights['fl_date'].dt.month\n",
    "df_carrier_flights['fl_year'] = df_carrier_flights['fl_date'].dt.year"
   ]
  },
  {
   "cell_type": "code",
   "execution_count": 7,
   "metadata": {},
   "outputs": [],
   "source": [
    "df_carrier_flights_group = df_carrier_flights[['op_unique_carrier','fl_year','fl_month','arr_delay','distance']].\\\n",
    "groupby(['op_unique_carrier','fl_year','fl_month']).agg(arr_delay_mean = ('arr_delay','mean'), distance_total = ('distance','sum')).\\\n",
    "                                              sort_values(['op_unique_carrier','fl_year','fl_month']).reset_index()"
   ]
  },
  {
   "cell_type": "code",
   "execution_count": 8,
   "metadata": {},
   "outputs": [
    {
     "data": {
      "text/html": [
       "<div>\n",
       "<style scoped>\n",
       "    .dataframe tbody tr th:only-of-type {\n",
       "        vertical-align: middle;\n",
       "    }\n",
       "\n",
       "    .dataframe tbody tr th {\n",
       "        vertical-align: top;\n",
       "    }\n",
       "\n",
       "    .dataframe thead th {\n",
       "        text-align: right;\n",
       "    }\n",
       "</style>\n",
       "<table border=\"1\" class=\"dataframe\">\n",
       "  <thead>\n",
       "    <tr style=\"text-align: right;\">\n",
       "      <th></th>\n",
       "      <th>op_unique_carrier</th>\n",
       "      <th>fl_year</th>\n",
       "      <th>fl_month</th>\n",
       "      <th>arr_delay_mean</th>\n",
       "      <th>distance_total</th>\n",
       "    </tr>\n",
       "  </thead>\n",
       "  <tbody>\n",
       "    <tr>\n",
       "      <th>0</th>\n",
       "      <td>9E</td>\n",
       "      <td>2018</td>\n",
       "      <td>1</td>\n",
       "      <td>3.261829</td>\n",
       "      <td>8167585.0</td>\n",
       "    </tr>\n",
       "    <tr>\n",
       "      <th>1</th>\n",
       "      <td>9E</td>\n",
       "      <td>2018</td>\n",
       "      <td>2</td>\n",
       "      <td>5.073699</td>\n",
       "      <td>8376340.0</td>\n",
       "    </tr>\n",
       "    <tr>\n",
       "      <th>2</th>\n",
       "      <td>9E</td>\n",
       "      <td>2018</td>\n",
       "      <td>3</td>\n",
       "      <td>3.425646</td>\n",
       "      <td>9823256.0</td>\n",
       "    </tr>\n",
       "    <tr>\n",
       "      <th>3</th>\n",
       "      <td>9E</td>\n",
       "      <td>2018</td>\n",
       "      <td>4</td>\n",
       "      <td>6.901152</td>\n",
       "      <td>9497942.0</td>\n",
       "    </tr>\n",
       "    <tr>\n",
       "      <th>4</th>\n",
       "      <td>9E</td>\n",
       "      <td>2018</td>\n",
       "      <td>5</td>\n",
       "      <td>1.900127</td>\n",
       "      <td>9976523.0</td>\n",
       "    </tr>\n",
       "  </tbody>\n",
       "</table>\n",
       "</div>"
      ],
      "text/plain": [
       "  op_unique_carrier  fl_year  fl_month  arr_delay_mean  distance_total\n",
       "0                9E     2018         1        3.261829       8167585.0\n",
       "1                9E     2018         2        5.073699       8376340.0\n",
       "2                9E     2018         3        3.425646       9823256.0\n",
       "3                9E     2018         4        6.901152       9497942.0\n",
       "4                9E     2018         5        1.900127       9976523.0"
      ]
     },
     "execution_count": 8,
     "metadata": {},
     "output_type": "execute_result"
    }
   ],
   "source": [
    "df_carrier_flights_group.head()"
   ]
  },
  {
   "cell_type": "markdown",
   "metadata": {},
   "source": [
    "###### "
   ]
  },
  {
   "cell_type": "markdown",
   "metadata": {},
   "source": [
    "#### Find out number of passengers that were carried by different air carriers"
   ]
  },
  {
   "cell_type": "code",
   "execution_count": 9,
   "metadata": {},
   "outputs": [],
   "source": [
    "#df_carrier_pax = query('select unique_carrier, year, month, passengers, departures_performed from passengers')"
   ]
  },
  {
   "cell_type": "code",
   "execution_count": 10,
   "metadata": {},
   "outputs": [],
   "source": [
    "#df_carrier_pax.to_csv('task10_carrier_pax_query.csv', index=False )"
   ]
  },
  {
   "cell_type": "code",
   "execution_count": 11,
   "metadata": {},
   "outputs": [],
   "source": [
    "df_carrier_pax = pd.read_csv('task10_carrier_pax_query.csv')"
   ]
  },
  {
   "cell_type": "code",
   "execution_count": 12,
   "metadata": {},
   "outputs": [],
   "source": [
    "df_carrier_pax['pax_per_flight'] = df_carrier_pax['passengers'] / df_carrier_pax['departures_performed']"
   ]
  },
  {
   "cell_type": "code",
   "execution_count": 13,
   "metadata": {},
   "outputs": [
    {
     "data": {
      "text/html": [
       "<div>\n",
       "<style scoped>\n",
       "    .dataframe tbody tr th:only-of-type {\n",
       "        vertical-align: middle;\n",
       "    }\n",
       "\n",
       "    .dataframe tbody tr th {\n",
       "        vertical-align: top;\n",
       "    }\n",
       "\n",
       "    .dataframe thead th {\n",
       "        text-align: right;\n",
       "    }\n",
       "</style>\n",
       "<table border=\"1\" class=\"dataframe\">\n",
       "  <thead>\n",
       "    <tr style=\"text-align: right;\">\n",
       "      <th></th>\n",
       "      <th>unique_carrier</th>\n",
       "      <th>year</th>\n",
       "      <th>month</th>\n",
       "      <th>passengers</th>\n",
       "      <th>departures_performed</th>\n",
       "      <th>pax_per_flight</th>\n",
       "    </tr>\n",
       "  </thead>\n",
       "  <tbody>\n",
       "    <tr>\n",
       "      <th>0</th>\n",
       "      <td>G4</td>\n",
       "      <td>2018</td>\n",
       "      <td>5</td>\n",
       "      <td>942.0</td>\n",
       "      <td>7.0</td>\n",
       "      <td>134.571429</td>\n",
       "    </tr>\n",
       "    <tr>\n",
       "      <th>1</th>\n",
       "      <td>G4</td>\n",
       "      <td>2018</td>\n",
       "      <td>5</td>\n",
       "      <td>923.0</td>\n",
       "      <td>7.0</td>\n",
       "      <td>131.857143</td>\n",
       "    </tr>\n",
       "    <tr>\n",
       "      <th>2</th>\n",
       "      <td>G4</td>\n",
       "      <td>2018</td>\n",
       "      <td>5</td>\n",
       "      <td>899.0</td>\n",
       "      <td>7.0</td>\n",
       "      <td>128.428571</td>\n",
       "    </tr>\n",
       "    <tr>\n",
       "      <th>3</th>\n",
       "      <td>G4</td>\n",
       "      <td>2018</td>\n",
       "      <td>5</td>\n",
       "      <td>925.0</td>\n",
       "      <td>7.0</td>\n",
       "      <td>132.142857</td>\n",
       "    </tr>\n",
       "    <tr>\n",
       "      <th>4</th>\n",
       "      <td>G4</td>\n",
       "      <td>2018</td>\n",
       "      <td>5</td>\n",
       "      <td>829.0</td>\n",
       "      <td>7.0</td>\n",
       "      <td>118.428571</td>\n",
       "    </tr>\n",
       "  </tbody>\n",
       "</table>\n",
       "</div>"
      ],
      "text/plain": [
       "  unique_carrier  year  month  passengers  departures_performed  \\\n",
       "0             G4  2018      5       942.0                   7.0   \n",
       "1             G4  2018      5       923.0                   7.0   \n",
       "2             G4  2018      5       899.0                   7.0   \n",
       "3             G4  2018      5       925.0                   7.0   \n",
       "4             G4  2018      5       829.0                   7.0   \n",
       "\n",
       "   pax_per_flight  \n",
       "0      134.571429  \n",
       "1      131.857143  \n",
       "2      128.428571  \n",
       "3      132.142857  \n",
       "4      118.428571  "
      ]
     },
     "execution_count": 13,
     "metadata": {},
     "output_type": "execute_result"
    }
   ],
   "source": [
    "df_carrier_pax.head()"
   ]
  },
  {
   "cell_type": "code",
   "execution_count": 14,
   "metadata": {},
   "outputs": [],
   "source": [
    "df_carrier_pax_group = df_carrier_pax[['unique_carrier', 'year', 'month', 'pax_per_flight']].\\\n",
    "groupby(['unique_carrier', 'year', 'month']).mean().sort_values(['unique_carrier', 'year', 'month']).reset_index()"
   ]
  },
  {
   "cell_type": "code",
   "execution_count": 15,
   "metadata": {},
   "outputs": [
    {
     "data": {
      "text/html": [
       "<div>\n",
       "<style scoped>\n",
       "    .dataframe tbody tr th:only-of-type {\n",
       "        vertical-align: middle;\n",
       "    }\n",
       "\n",
       "    .dataframe tbody tr th {\n",
       "        vertical-align: top;\n",
       "    }\n",
       "\n",
       "    .dataframe thead th {\n",
       "        text-align: right;\n",
       "    }\n",
       "</style>\n",
       "<table border=\"1\" class=\"dataframe\">\n",
       "  <thead>\n",
       "    <tr style=\"text-align: right;\">\n",
       "      <th></th>\n",
       "      <th>unique_carrier</th>\n",
       "      <th>year</th>\n",
       "      <th>month</th>\n",
       "      <th>pax_per_flight</th>\n",
       "    </tr>\n",
       "  </thead>\n",
       "  <tbody>\n",
       "    <tr>\n",
       "      <th>0</th>\n",
       "      <td>02Q</td>\n",
       "      <td>2015</td>\n",
       "      <td>2</td>\n",
       "      <td>187.000000</td>\n",
       "    </tr>\n",
       "    <tr>\n",
       "      <th>1</th>\n",
       "      <td>02Q</td>\n",
       "      <td>2015</td>\n",
       "      <td>3</td>\n",
       "      <td>265.000000</td>\n",
       "    </tr>\n",
       "    <tr>\n",
       "      <th>2</th>\n",
       "      <td>02Q</td>\n",
       "      <td>2015</td>\n",
       "      <td>4</td>\n",
       "      <td>212.000000</td>\n",
       "    </tr>\n",
       "    <tr>\n",
       "      <th>3</th>\n",
       "      <td>02Q</td>\n",
       "      <td>2015</td>\n",
       "      <td>5</td>\n",
       "      <td>118.142857</td>\n",
       "    </tr>\n",
       "    <tr>\n",
       "      <th>4</th>\n",
       "      <td>02Q</td>\n",
       "      <td>2015</td>\n",
       "      <td>6</td>\n",
       "      <td>77.000000</td>\n",
       "    </tr>\n",
       "  </tbody>\n",
       "</table>\n",
       "</div>"
      ],
      "text/plain": [
       "  unique_carrier  year  month  pax_per_flight\n",
       "0            02Q  2015      2      187.000000\n",
       "1            02Q  2015      3      265.000000\n",
       "2            02Q  2015      4      212.000000\n",
       "3            02Q  2015      5      118.142857\n",
       "4            02Q  2015      6       77.000000"
      ]
     },
     "execution_count": 15,
     "metadata": {},
     "output_type": "execute_result"
    }
   ],
   "source": [
    "df_carrier_pax_group.head()"
   ]
  },
  {
   "cell_type": "markdown",
   "metadata": {},
   "source": [
    "###### "
   ]
  },
  {
   "cell_type": "markdown",
   "metadata": {},
   "source": [
    "#### Find out total fuel comsumption per air carrier"
   ]
  },
  {
   "cell_type": "code",
   "execution_count": 16,
   "metadata": {},
   "outputs": [],
   "source": [
    "#df_carrier_fuel = query('select unique_carrier, year, month, total_gallons from fuel_comsumption')"
   ]
  },
  {
   "cell_type": "code",
   "execution_count": 17,
   "metadata": {},
   "outputs": [],
   "source": [
    "#df_carrier_fuel.to_csv('task10_carrier_fuel_query.csv', index=False )"
   ]
  },
  {
   "cell_type": "code",
   "execution_count": 18,
   "metadata": {},
   "outputs": [],
   "source": [
    "df_carrier_fuel = pd.read_csv('task10_carrier_fuel_query.csv')"
   ]
  },
  {
   "cell_type": "code",
   "execution_count": 19,
   "metadata": {},
   "outputs": [
    {
     "data": {
      "text/html": [
       "<div>\n",
       "<style scoped>\n",
       "    .dataframe tbody tr th:only-of-type {\n",
       "        vertical-align: middle;\n",
       "    }\n",
       "\n",
       "    .dataframe tbody tr th {\n",
       "        vertical-align: top;\n",
       "    }\n",
       "\n",
       "    .dataframe thead th {\n",
       "        text-align: right;\n",
       "    }\n",
       "</style>\n",
       "<table border=\"1\" class=\"dataframe\">\n",
       "  <thead>\n",
       "    <tr style=\"text-align: right;\">\n",
       "      <th></th>\n",
       "      <th>unique_carrier</th>\n",
       "      <th>year</th>\n",
       "      <th>month</th>\n",
       "      <th>total_gallons</th>\n",
       "    </tr>\n",
       "  </thead>\n",
       "  <tbody>\n",
       "    <tr>\n",
       "      <th>0</th>\n",
       "      <td>NaN</td>\n",
       "      <td>2016</td>\n",
       "      <td>1</td>\n",
       "      <td>3000.0</td>\n",
       "    </tr>\n",
       "    <tr>\n",
       "      <th>1</th>\n",
       "      <td>0WQ</td>\n",
       "      <td>2016</td>\n",
       "      <td>1</td>\n",
       "      <td>210112.0</td>\n",
       "    </tr>\n",
       "    <tr>\n",
       "      <th>2</th>\n",
       "      <td>23Q</td>\n",
       "      <td>2016</td>\n",
       "      <td>1</td>\n",
       "      <td>0.0</td>\n",
       "    </tr>\n",
       "    <tr>\n",
       "      <th>3</th>\n",
       "      <td>27Q</td>\n",
       "      <td>2016</td>\n",
       "      <td>1</td>\n",
       "      <td>0.0</td>\n",
       "    </tr>\n",
       "    <tr>\n",
       "      <th>4</th>\n",
       "      <td>5V</td>\n",
       "      <td>2016</td>\n",
       "      <td>1</td>\n",
       "      <td>284362.0</td>\n",
       "    </tr>\n",
       "  </tbody>\n",
       "</table>\n",
       "</div>"
      ],
      "text/plain": [
       "  unique_carrier  year  month  total_gallons\n",
       "0            NaN  2016      1         3000.0\n",
       "1            0WQ  2016      1       210112.0\n",
       "2            23Q  2016      1            0.0\n",
       "3            27Q  2016      1            0.0\n",
       "4             5V  2016      1       284362.0"
      ]
     },
     "execution_count": 19,
     "metadata": {},
     "output_type": "execute_result"
    }
   ],
   "source": [
    "df_carrier_fuel.head()"
   ]
  },
  {
   "cell_type": "markdown",
   "metadata": {},
   "source": [
    "###### "
   ]
  },
  {
   "cell_type": "markdown",
   "metadata": {},
   "source": [
    "#### Merge the three tables"
   ]
  },
  {
   "cell_type": "code",
   "execution_count": 20,
   "metadata": {},
   "outputs": [],
   "source": [
    "df_2018_2019_flights = df_carrier_flights_group[df_carrier_flights_group['fl_year'] >= 2018]\n",
    "df_2018_2019_pax = df_carrier_pax_group[df_carrier_pax_group['year'] >= 2018]\n",
    "df_2018_2019_fuel = df_carrier_fuel[df_carrier_fuel['year'] >= 2018]"
   ]
  },
  {
   "cell_type": "code",
   "execution_count": 21,
   "metadata": {},
   "outputs": [],
   "source": [
    "def createConcatKey(carrier, year, month):\n",
    "    return str(carrier) + str(year) + str(month)"
   ]
  },
  {
   "cell_type": "code",
   "execution_count": 22,
   "metadata": {},
   "outputs": [],
   "source": [
    "df_2018_2019_flights['concat_key'] = df_2018_2019_flights.apply(lambda row: createConcatKey(row['op_unique_carrier'], \\\n",
    "                                                                                            row['fl_year'], \\\n",
    "                                                                                            row['fl_month']), axis=1) "
   ]
  },
  {
   "cell_type": "code",
   "execution_count": 23,
   "metadata": {},
   "outputs": [
    {
     "name": "stderr",
     "output_type": "stream",
     "text": [
      "<ipython-input-23-bc88118c541f>:1: SettingWithCopyWarning: \n",
      "A value is trying to be set on a copy of a slice from a DataFrame.\n",
      "Try using .loc[row_indexer,col_indexer] = value instead\n",
      "\n",
      "See the caveats in the documentation: https://pandas.pydata.org/pandas-docs/stable/user_guide/indexing.html#returning-a-view-versus-a-copy\n",
      "  df_2018_2019_pax['concat_key'] = df_2018_2019_pax.apply(lambda row: createConcatKey(row['unique_carrier'], \\\n"
     ]
    }
   ],
   "source": [
    "df_2018_2019_pax['concat_key'] = df_2018_2019_pax.apply(lambda row: createConcatKey(row['unique_carrier'], \\\n",
    "                                                                                            row['year'], \\\n",
    "                                                                                            row['month']), axis=1) "
   ]
  },
  {
   "cell_type": "code",
   "execution_count": 24,
   "metadata": {},
   "outputs": [
    {
     "name": "stderr",
     "output_type": "stream",
     "text": [
      "<ipython-input-24-23b147c8c420>:1: SettingWithCopyWarning: \n",
      "A value is trying to be set on a copy of a slice from a DataFrame.\n",
      "Try using .loc[row_indexer,col_indexer] = value instead\n",
      "\n",
      "See the caveats in the documentation: https://pandas.pydata.org/pandas-docs/stable/user_guide/indexing.html#returning-a-view-versus-a-copy\n",
      "  df_2018_2019_fuel['concat_key'] = df_2018_2019_fuel.apply(lambda row: createConcatKey(row['unique_carrier'], \\\n"
     ]
    }
   ],
   "source": [
    "df_2018_2019_fuel['concat_key'] = df_2018_2019_fuel.apply(lambda row: createConcatKey(row['unique_carrier'], \\\n",
    "                                                                                            row['year'], \\\n",
    "                                                                                            row['month']), axis=1) "
   ]
  },
  {
   "cell_type": "code",
   "execution_count": 25,
   "metadata": {},
   "outputs": [
    {
     "data": {
      "text/html": [
       "<div>\n",
       "<style scoped>\n",
       "    .dataframe tbody tr th:only-of-type {\n",
       "        vertical-align: middle;\n",
       "    }\n",
       "\n",
       "    .dataframe tbody tr th {\n",
       "        vertical-align: top;\n",
       "    }\n",
       "\n",
       "    .dataframe thead th {\n",
       "        text-align: right;\n",
       "    }\n",
       "</style>\n",
       "<table border=\"1\" class=\"dataframe\">\n",
       "  <thead>\n",
       "    <tr style=\"text-align: right;\">\n",
       "      <th></th>\n",
       "      <th>op_unique_carrier</th>\n",
       "      <th>fl_year</th>\n",
       "      <th>fl_month</th>\n",
       "      <th>arr_delay_mean</th>\n",
       "      <th>distance_total</th>\n",
       "      <th>concat_key</th>\n",
       "    </tr>\n",
       "  </thead>\n",
       "  <tbody>\n",
       "    <tr>\n",
       "      <th>0</th>\n",
       "      <td>9E</td>\n",
       "      <td>2018</td>\n",
       "      <td>1</td>\n",
       "      <td>3.261829</td>\n",
       "      <td>8167585.0</td>\n",
       "      <td>9E20181</td>\n",
       "    </tr>\n",
       "    <tr>\n",
       "      <th>1</th>\n",
       "      <td>9E</td>\n",
       "      <td>2018</td>\n",
       "      <td>2</td>\n",
       "      <td>5.073699</td>\n",
       "      <td>8376340.0</td>\n",
       "      <td>9E20182</td>\n",
       "    </tr>\n",
       "    <tr>\n",
       "      <th>2</th>\n",
       "      <td>9E</td>\n",
       "      <td>2018</td>\n",
       "      <td>3</td>\n",
       "      <td>3.425646</td>\n",
       "      <td>9823256.0</td>\n",
       "      <td>9E20183</td>\n",
       "    </tr>\n",
       "    <tr>\n",
       "      <th>3</th>\n",
       "      <td>9E</td>\n",
       "      <td>2018</td>\n",
       "      <td>4</td>\n",
       "      <td>6.901152</td>\n",
       "      <td>9497942.0</td>\n",
       "      <td>9E20184</td>\n",
       "    </tr>\n",
       "    <tr>\n",
       "      <th>4</th>\n",
       "      <td>9E</td>\n",
       "      <td>2018</td>\n",
       "      <td>5</td>\n",
       "      <td>1.900127</td>\n",
       "      <td>9976523.0</td>\n",
       "      <td>9E20185</td>\n",
       "    </tr>\n",
       "  </tbody>\n",
       "</table>\n",
       "</div>"
      ],
      "text/plain": [
       "  op_unique_carrier  fl_year  fl_month  arr_delay_mean  distance_total  \\\n",
       "0                9E     2018         1        3.261829       8167585.0   \n",
       "1                9E     2018         2        5.073699       8376340.0   \n",
       "2                9E     2018         3        3.425646       9823256.0   \n",
       "3                9E     2018         4        6.901152       9497942.0   \n",
       "4                9E     2018         5        1.900127       9976523.0   \n",
       "\n",
       "  concat_key  \n",
       "0    9E20181  \n",
       "1    9E20182  \n",
       "2    9E20183  \n",
       "3    9E20184  \n",
       "4    9E20185  "
      ]
     },
     "execution_count": 25,
     "metadata": {},
     "output_type": "execute_result"
    }
   ],
   "source": [
    "df_2018_2019_flights.head()"
   ]
  },
  {
   "cell_type": "code",
   "execution_count": 26,
   "metadata": {},
   "outputs": [
    {
     "data": {
      "text/html": [
       "<div>\n",
       "<style scoped>\n",
       "    .dataframe tbody tr th:only-of-type {\n",
       "        vertical-align: middle;\n",
       "    }\n",
       "\n",
       "    .dataframe tbody tr th {\n",
       "        vertical-align: top;\n",
       "    }\n",
       "\n",
       "    .dataframe thead th {\n",
       "        text-align: right;\n",
       "    }\n",
       "</style>\n",
       "<table border=\"1\" class=\"dataframe\">\n",
       "  <thead>\n",
       "    <tr style=\"text-align: right;\">\n",
       "      <th></th>\n",
       "      <th>unique_carrier</th>\n",
       "      <th>year</th>\n",
       "      <th>month</th>\n",
       "      <th>pax_per_flight</th>\n",
       "      <th>concat_key</th>\n",
       "    </tr>\n",
       "  </thead>\n",
       "  <tbody>\n",
       "    <tr>\n",
       "      <th>15</th>\n",
       "      <td>02Q</td>\n",
       "      <td>2018</td>\n",
       "      <td>3</td>\n",
       "      <td>12.500000</td>\n",
       "      <td>02Q20183</td>\n",
       "    </tr>\n",
       "    <tr>\n",
       "      <th>16</th>\n",
       "      <td>02Q</td>\n",
       "      <td>2018</td>\n",
       "      <td>4</td>\n",
       "      <td>23.800000</td>\n",
       "      <td>02Q20184</td>\n",
       "    </tr>\n",
       "    <tr>\n",
       "      <th>17</th>\n",
       "      <td>02Q</td>\n",
       "      <td>2018</td>\n",
       "      <td>6</td>\n",
       "      <td>14.900000</td>\n",
       "      <td>02Q20186</td>\n",
       "    </tr>\n",
       "    <tr>\n",
       "      <th>18</th>\n",
       "      <td>02Q</td>\n",
       "      <td>2019</td>\n",
       "      <td>2</td>\n",
       "      <td>138.000000</td>\n",
       "      <td>02Q20192</td>\n",
       "    </tr>\n",
       "    <tr>\n",
       "      <th>19</th>\n",
       "      <td>02Q</td>\n",
       "      <td>2019</td>\n",
       "      <td>5</td>\n",
       "      <td>52.666667</td>\n",
       "      <td>02Q20195</td>\n",
       "    </tr>\n",
       "  </tbody>\n",
       "</table>\n",
       "</div>"
      ],
      "text/plain": [
       "   unique_carrier  year  month  pax_per_flight concat_key\n",
       "15            02Q  2018      3       12.500000   02Q20183\n",
       "16            02Q  2018      4       23.800000   02Q20184\n",
       "17            02Q  2018      6       14.900000   02Q20186\n",
       "18            02Q  2019      2      138.000000   02Q20192\n",
       "19            02Q  2019      5       52.666667   02Q20195"
      ]
     },
     "execution_count": 26,
     "metadata": {},
     "output_type": "execute_result"
    }
   ],
   "source": [
    "df_2018_2019_pax.head()"
   ]
  },
  {
   "cell_type": "code",
   "execution_count": 27,
   "metadata": {},
   "outputs": [
    {
     "data": {
      "text/html": [
       "<div>\n",
       "<style scoped>\n",
       "    .dataframe tbody tr th:only-of-type {\n",
       "        vertical-align: middle;\n",
       "    }\n",
       "\n",
       "    .dataframe tbody tr th {\n",
       "        vertical-align: top;\n",
       "    }\n",
       "\n",
       "    .dataframe thead th {\n",
       "        text-align: right;\n",
       "    }\n",
       "</style>\n",
       "<table border=\"1\" class=\"dataframe\">\n",
       "  <thead>\n",
       "    <tr style=\"text-align: right;\">\n",
       "      <th></th>\n",
       "      <th>unique_carrier</th>\n",
       "      <th>year</th>\n",
       "      <th>month</th>\n",
       "      <th>total_gallons</th>\n",
       "      <th>concat_key</th>\n",
       "    </tr>\n",
       "  </thead>\n",
       "  <tbody>\n",
       "    <tr>\n",
       "      <th>1977</th>\n",
       "      <td>09Q</td>\n",
       "      <td>2019</td>\n",
       "      <td>1</td>\n",
       "      <td>1235210.0</td>\n",
       "      <td>09Q20191</td>\n",
       "    </tr>\n",
       "    <tr>\n",
       "      <th>1978</th>\n",
       "      <td>0WQ</td>\n",
       "      <td>2019</td>\n",
       "      <td>1</td>\n",
       "      <td>0.0</td>\n",
       "      <td>0WQ20191</td>\n",
       "    </tr>\n",
       "    <tr>\n",
       "      <th>1979</th>\n",
       "      <td>1BQ</td>\n",
       "      <td>2019</td>\n",
       "      <td>1</td>\n",
       "      <td>60821.0</td>\n",
       "      <td>1BQ20191</td>\n",
       "    </tr>\n",
       "    <tr>\n",
       "      <th>1980</th>\n",
       "      <td>27Q</td>\n",
       "      <td>2019</td>\n",
       "      <td>1</td>\n",
       "      <td>0.0</td>\n",
       "      <td>27Q20191</td>\n",
       "    </tr>\n",
       "    <tr>\n",
       "      <th>1981</th>\n",
       "      <td>2HQ</td>\n",
       "      <td>2019</td>\n",
       "      <td>1</td>\n",
       "      <td>410186.0</td>\n",
       "      <td>2HQ20191</td>\n",
       "    </tr>\n",
       "  </tbody>\n",
       "</table>\n",
       "</div>"
      ],
      "text/plain": [
       "     unique_carrier  year  month  total_gallons concat_key\n",
       "1977            09Q  2019      1      1235210.0   09Q20191\n",
       "1978            0WQ  2019      1            0.0   0WQ20191\n",
       "1979            1BQ  2019      1        60821.0   1BQ20191\n",
       "1980            27Q  2019      1            0.0   27Q20191\n",
       "1981            2HQ  2019      1       410186.0   2HQ20191"
      ]
     },
     "execution_count": 27,
     "metadata": {},
     "output_type": "execute_result"
    }
   ],
   "source": [
    "df_2018_2019_fuel.head()"
   ]
  },
  {
   "cell_type": "code",
   "execution_count": 28,
   "metadata": {},
   "outputs": [],
   "source": [
    "df_2018_2019_merged = pd.merge(df_2018_2019_flights, df_2018_2019_pax, on='concat_key', how='left')"
   ]
  },
  {
   "cell_type": "code",
   "execution_count": 29,
   "metadata": {},
   "outputs": [],
   "source": [
    "df_2018_2019_merged = pd.merge(df_2018_2019_merged, df_2018_2019_fuel, on='concat_key', how='left')"
   ]
  },
  {
   "cell_type": "code",
   "execution_count": 30,
   "metadata": {},
   "outputs": [],
   "source": [
    "df_2018_2019_merged = df_2018_2019_merged.drop(['unique_carrier_x','year_x','month_x','unique_carrier_y',\\\n",
    "                                                'year_y','month_y'], axis=1)"
   ]
  },
  {
   "cell_type": "code",
   "execution_count": 31,
   "metadata": {},
   "outputs": [
    {
     "data": {
      "text/html": [
       "<div>\n",
       "<style scoped>\n",
       "    .dataframe tbody tr th:only-of-type {\n",
       "        vertical-align: middle;\n",
       "    }\n",
       "\n",
       "    .dataframe tbody tr th {\n",
       "        vertical-align: top;\n",
       "    }\n",
       "\n",
       "    .dataframe thead th {\n",
       "        text-align: right;\n",
       "    }\n",
       "</style>\n",
       "<table border=\"1\" class=\"dataframe\">\n",
       "  <thead>\n",
       "    <tr style=\"text-align: right;\">\n",
       "      <th></th>\n",
       "      <th>concat_key</th>\n",
       "      <th>op_unique_carrier</th>\n",
       "      <th>fl_year</th>\n",
       "      <th>fl_month</th>\n",
       "      <th>arr_delay_mean</th>\n",
       "      <th>distance_total</th>\n",
       "      <th>pax_per_flight</th>\n",
       "      <th>total_gallons</th>\n",
       "    </tr>\n",
       "  </thead>\n",
       "  <tbody>\n",
       "    <tr>\n",
       "      <th>0</th>\n",
       "      <td>9E20181</td>\n",
       "      <td>9E</td>\n",
       "      <td>2018</td>\n",
       "      <td>1</td>\n",
       "      <td>3.261829</td>\n",
       "      <td>8167585.0</td>\n",
       "      <td>47.648059</td>\n",
       "      <td>0.0</td>\n",
       "    </tr>\n",
       "    <tr>\n",
       "      <th>1</th>\n",
       "      <td>9E20182</td>\n",
       "      <td>9E</td>\n",
       "      <td>2018</td>\n",
       "      <td>2</td>\n",
       "      <td>5.073699</td>\n",
       "      <td>8376340.0</td>\n",
       "      <td>48.753926</td>\n",
       "      <td>0.0</td>\n",
       "    </tr>\n",
       "    <tr>\n",
       "      <th>2</th>\n",
       "      <td>9E20183</td>\n",
       "      <td>9E</td>\n",
       "      <td>2018</td>\n",
       "      <td>3</td>\n",
       "      <td>3.425646</td>\n",
       "      <td>9823256.0</td>\n",
       "      <td>52.850828</td>\n",
       "      <td>0.0</td>\n",
       "    </tr>\n",
       "    <tr>\n",
       "      <th>3</th>\n",
       "      <td>9E20184</td>\n",
       "      <td>9E</td>\n",
       "      <td>2018</td>\n",
       "      <td>4</td>\n",
       "      <td>6.901152</td>\n",
       "      <td>9497942.0</td>\n",
       "      <td>52.995243</td>\n",
       "      <td>0.0</td>\n",
       "    </tr>\n",
       "    <tr>\n",
       "      <th>4</th>\n",
       "      <td>9E20185</td>\n",
       "      <td>9E</td>\n",
       "      <td>2018</td>\n",
       "      <td>5</td>\n",
       "      <td>1.900127</td>\n",
       "      <td>9976523.0</td>\n",
       "      <td>54.623276</td>\n",
       "      <td>0.0</td>\n",
       "    </tr>\n",
       "  </tbody>\n",
       "</table>\n",
       "</div>"
      ],
      "text/plain": [
       "  concat_key op_unique_carrier  fl_year  fl_month  arr_delay_mean  \\\n",
       "0    9E20181                9E     2018         1        3.261829   \n",
       "1    9E20182                9E     2018         2        5.073699   \n",
       "2    9E20183                9E     2018         3        3.425646   \n",
       "3    9E20184                9E     2018         4        6.901152   \n",
       "4    9E20185                9E     2018         5        1.900127   \n",
       "\n",
       "   distance_total  pax_per_flight  total_gallons  \n",
       "0       8167585.0       47.648059            0.0  \n",
       "1       8376340.0       48.753926            0.0  \n",
       "2       9823256.0       52.850828            0.0  \n",
       "3       9497942.0       52.995243            0.0  \n",
       "4       9976523.0       54.623276            0.0  "
      ]
     },
     "execution_count": 31,
     "metadata": {},
     "output_type": "execute_result"
    }
   ],
   "source": [
    "first_col = df_2018_2019_merged.pop('concat_key')\n",
    "df_2018_2019_merged.insert(0, 'concat_key', first_col)\n",
    "df_2018_2019_merged.head()"
   ]
  },
  {
   "cell_type": "markdown",
   "metadata": {},
   "source": [
    "###### "
   ]
  },
  {
   "cell_type": "markdown",
   "metadata": {},
   "source": [
    "#### Use this information to get the average fuel comsumption per passenger per km. Is this higher for the airlines with bigger average delays?"
   ]
  },
  {
   "cell_type": "code",
   "execution_count": 32,
   "metadata": {},
   "outputs": [],
   "source": [
    "df_2018_2019_merged['litres_per_pax_per_100km'] = (df_2018_2019_merged['total_gallons'] * 3.785411784) / \\\n",
    "(df_2018_2019_merged['distance_total'] * 1.609344 / 100)/ df_2018_2019_merged['pax_per_flight']"
   ]
  },
  {
   "cell_type": "code",
   "execution_count": 33,
   "metadata": {},
   "outputs": [
    {
     "data": {
      "text/html": [
       "<div>\n",
       "<style scoped>\n",
       "    .dataframe tbody tr th:only-of-type {\n",
       "        vertical-align: middle;\n",
       "    }\n",
       "\n",
       "    .dataframe tbody tr th {\n",
       "        vertical-align: top;\n",
       "    }\n",
       "\n",
       "    .dataframe thead th {\n",
       "        text-align: right;\n",
       "    }\n",
       "</style>\n",
       "<table border=\"1\" class=\"dataframe\">\n",
       "  <thead>\n",
       "    <tr style=\"text-align: right;\">\n",
       "      <th></th>\n",
       "      <th>concat_key</th>\n",
       "      <th>op_unique_carrier</th>\n",
       "      <th>fl_year</th>\n",
       "      <th>fl_month</th>\n",
       "      <th>arr_delay_mean</th>\n",
       "      <th>distance_total</th>\n",
       "      <th>pax_per_flight</th>\n",
       "      <th>total_gallons</th>\n",
       "      <th>litres_per_pax_per_100km</th>\n",
       "    </tr>\n",
       "  </thead>\n",
       "  <tbody>\n",
       "    <tr>\n",
       "      <th>0</th>\n",
       "      <td>9E20181</td>\n",
       "      <td>9E</td>\n",
       "      <td>2018</td>\n",
       "      <td>1</td>\n",
       "      <td>3.261829</td>\n",
       "      <td>8167585.0</td>\n",
       "      <td>47.648059</td>\n",
       "      <td>0.0</td>\n",
       "      <td>0.0</td>\n",
       "    </tr>\n",
       "    <tr>\n",
       "      <th>1</th>\n",
       "      <td>9E20182</td>\n",
       "      <td>9E</td>\n",
       "      <td>2018</td>\n",
       "      <td>2</td>\n",
       "      <td>5.073699</td>\n",
       "      <td>8376340.0</td>\n",
       "      <td>48.753926</td>\n",
       "      <td>0.0</td>\n",
       "      <td>0.0</td>\n",
       "    </tr>\n",
       "    <tr>\n",
       "      <th>2</th>\n",
       "      <td>9E20183</td>\n",
       "      <td>9E</td>\n",
       "      <td>2018</td>\n",
       "      <td>3</td>\n",
       "      <td>3.425646</td>\n",
       "      <td>9823256.0</td>\n",
       "      <td>52.850828</td>\n",
       "      <td>0.0</td>\n",
       "      <td>0.0</td>\n",
       "    </tr>\n",
       "    <tr>\n",
       "      <th>3</th>\n",
       "      <td>9E20184</td>\n",
       "      <td>9E</td>\n",
       "      <td>2018</td>\n",
       "      <td>4</td>\n",
       "      <td>6.901152</td>\n",
       "      <td>9497942.0</td>\n",
       "      <td>52.995243</td>\n",
       "      <td>0.0</td>\n",
       "      <td>0.0</td>\n",
       "    </tr>\n",
       "    <tr>\n",
       "      <th>4</th>\n",
       "      <td>9E20185</td>\n",
       "      <td>9E</td>\n",
       "      <td>2018</td>\n",
       "      <td>5</td>\n",
       "      <td>1.900127</td>\n",
       "      <td>9976523.0</td>\n",
       "      <td>54.623276</td>\n",
       "      <td>0.0</td>\n",
       "      <td>0.0</td>\n",
       "    </tr>\n",
       "  </tbody>\n",
       "</table>\n",
       "</div>"
      ],
      "text/plain": [
       "  concat_key op_unique_carrier  fl_year  fl_month  arr_delay_mean  \\\n",
       "0    9E20181                9E     2018         1        3.261829   \n",
       "1    9E20182                9E     2018         2        5.073699   \n",
       "2    9E20183                9E     2018         3        3.425646   \n",
       "3    9E20184                9E     2018         4        6.901152   \n",
       "4    9E20185                9E     2018         5        1.900127   \n",
       "\n",
       "   distance_total  pax_per_flight  total_gallons  litres_per_pax_per_100km  \n",
       "0       8167585.0       47.648059            0.0                       0.0  \n",
       "1       8376340.0       48.753926            0.0                       0.0  \n",
       "2       9823256.0       52.850828            0.0                       0.0  \n",
       "3       9497942.0       52.995243            0.0                       0.0  \n",
       "4       9976523.0       54.623276            0.0                       0.0  "
      ]
     },
     "execution_count": 33,
     "metadata": {},
     "output_type": "execute_result"
    }
   ],
   "source": [
    "df_2018_2019_merged.head()"
   ]
  },
  {
   "cell_type": "code",
   "execution_count": 34,
   "metadata": {},
   "outputs": [],
   "source": [
    "df_task10 = df_2018_2019_merged.dropna()"
   ]
  },
  {
   "cell_type": "code",
   "execution_count": 35,
   "metadata": {},
   "outputs": [],
   "source": [
    "df_task10 = df_task10[df_task10['total_gallons'] > 0]"
   ]
  },
  {
   "cell_type": "code",
   "execution_count": 36,
   "metadata": {},
   "outputs": [
    {
     "data": {
      "text/html": [
       "<div>\n",
       "<style scoped>\n",
       "    .dataframe tbody tr th:only-of-type {\n",
       "        vertical-align: middle;\n",
       "    }\n",
       "\n",
       "    .dataframe tbody tr th {\n",
       "        vertical-align: top;\n",
       "    }\n",
       "\n",
       "    .dataframe thead th {\n",
       "        text-align: right;\n",
       "    }\n",
       "</style>\n",
       "<table border=\"1\" class=\"dataframe\">\n",
       "  <thead>\n",
       "    <tr style=\"text-align: right;\">\n",
       "      <th></th>\n",
       "      <th>concat_key</th>\n",
       "      <th>op_unique_carrier</th>\n",
       "      <th>fl_year</th>\n",
       "      <th>fl_month</th>\n",
       "      <th>arr_delay_mean</th>\n",
       "      <th>distance_total</th>\n",
       "      <th>pax_per_flight</th>\n",
       "      <th>total_gallons</th>\n",
       "      <th>litres_per_pax_per_100km</th>\n",
       "    </tr>\n",
       "  </thead>\n",
       "  <tbody>\n",
       "    <tr>\n",
       "      <th>29</th>\n",
       "      <td>AA20181</td>\n",
       "      <td>AA</td>\n",
       "      <td>2018</td>\n",
       "      <td>1</td>\n",
       "      <td>0.429125</td>\n",
       "      <td>73930041.0</td>\n",
       "      <td>126.262798</td>\n",
       "      <td>283974071.0</td>\n",
       "      <td>7.155609</td>\n",
       "    </tr>\n",
       "    <tr>\n",
       "      <th>30</th>\n",
       "      <td>AA20182</td>\n",
       "      <td>AA</td>\n",
       "      <td>2018</td>\n",
       "      <td>2</td>\n",
       "      <td>2.009694</td>\n",
       "      <td>69007046.0</td>\n",
       "      <td>127.451266</td>\n",
       "      <td>261946387.0</td>\n",
       "      <td>7.005499</td>\n",
       "    </tr>\n",
       "    <tr>\n",
       "      <th>31</th>\n",
       "      <td>AA20183</td>\n",
       "      <td>AA</td>\n",
       "      <td>2018</td>\n",
       "      <td>3</td>\n",
       "      <td>-0.213830</td>\n",
       "      <td>79512758.0</td>\n",
       "      <td>135.099365</td>\n",
       "      <td>298906244.0</td>\n",
       "      <td>6.544992</td>\n",
       "    </tr>\n",
       "    <tr>\n",
       "      <th>32</th>\n",
       "      <td>AA20184</td>\n",
       "      <td>AA</td>\n",
       "      <td>2018</td>\n",
       "      <td>4</td>\n",
       "      <td>0.515217</td>\n",
       "      <td>75093912.0</td>\n",
       "      <td>134.422841</td>\n",
       "      <td>297784292.0</td>\n",
       "      <td>6.938862</td>\n",
       "    </tr>\n",
       "    <tr>\n",
       "      <th>33</th>\n",
       "      <td>AA20185</td>\n",
       "      <td>AA</td>\n",
       "      <td>2018</td>\n",
       "      <td>5</td>\n",
       "      <td>5.950072</td>\n",
       "      <td>79376480.0</td>\n",
       "      <td>136.011181</td>\n",
       "      <td>318954880.0</td>\n",
       "      <td>6.949076</td>\n",
       "    </tr>\n",
       "    <tr>\n",
       "      <th>34</th>\n",
       "      <td>AA20186</td>\n",
       "      <td>AA</td>\n",
       "      <td>2018</td>\n",
       "      <td>6</td>\n",
       "      <td>9.798884</td>\n",
       "      <td>81807311.0</td>\n",
       "      <td>139.273604</td>\n",
       "      <td>327277749.0</td>\n",
       "      <td>6.756469</td>\n",
       "    </tr>\n",
       "    <tr>\n",
       "      <th>35</th>\n",
       "      <td>AA20187</td>\n",
       "      <td>AA</td>\n",
       "      <td>2018</td>\n",
       "      <td>7</td>\n",
       "      <td>13.011832</td>\n",
       "      <td>84899409.0</td>\n",
       "      <td>142.384418</td>\n",
       "      <td>341082450.0</td>\n",
       "      <td>6.636766</td>\n",
       "    </tr>\n",
       "    <tr>\n",
       "      <th>36</th>\n",
       "      <td>AA20188</td>\n",
       "      <td>AA</td>\n",
       "      <td>2018</td>\n",
       "      <td>8</td>\n",
       "      <td>11.225474</td>\n",
       "      <td>83291459.0</td>\n",
       "      <td>136.980473</td>\n",
       "      <td>334937605.0</td>\n",
       "      <td>6.905085</td>\n",
       "    </tr>\n",
       "    <tr>\n",
       "      <th>37</th>\n",
       "      <td>AA20189</td>\n",
       "      <td>AA</td>\n",
       "      <td>2018</td>\n",
       "      <td>9</td>\n",
       "      <td>5.843163</td>\n",
       "      <td>75823308.0</td>\n",
       "      <td>128.108857</td>\n",
       "      <td>302313376.0</td>\n",
       "      <td>7.320483</td>\n",
       "    </tr>\n",
       "    <tr>\n",
       "      <th>38</th>\n",
       "      <td>AA201810</td>\n",
       "      <td>AA</td>\n",
       "      <td>2018</td>\n",
       "      <td>10</td>\n",
       "      <td>6.403908</td>\n",
       "      <td>78648799.0</td>\n",
       "      <td>134.653057</td>\n",
       "      <td>309826329.0</td>\n",
       "      <td>6.881360</td>\n",
       "    </tr>\n",
       "    <tr>\n",
       "      <th>39</th>\n",
       "      <td>AA201811</td>\n",
       "      <td>AA</td>\n",
       "      <td>2018</td>\n",
       "      <td>11</td>\n",
       "      <td>4.923866</td>\n",
       "      <td>73510755.0</td>\n",
       "      <td>133.766389</td>\n",
       "      <td>275209633.0</td>\n",
       "      <td>6.583093</td>\n",
       "    </tr>\n",
       "    <tr>\n",
       "      <th>40</th>\n",
       "      <td>AA201812</td>\n",
       "      <td>AA</td>\n",
       "      <td>2018</td>\n",
       "      <td>12</td>\n",
       "      <td>3.895508</td>\n",
       "      <td>76798306.0</td>\n",
       "      <td>128.225781</td>\n",
       "      <td>292016200.0</td>\n",
       "      <td>6.975000</td>\n",
       "    </tr>\n",
       "    <tr>\n",
       "      <th>41</th>\n",
       "      <td>AA20191</td>\n",
       "      <td>AA</td>\n",
       "      <td>2019</td>\n",
       "      <td>1</td>\n",
       "      <td>3.279720</td>\n",
       "      <td>76054688.0</td>\n",
       "      <td>127.791767</td>\n",
       "      <td>286544730.0</td>\n",
       "      <td>6.934702</td>\n",
       "    </tr>\n",
       "    <tr>\n",
       "      <th>42</th>\n",
       "      <td>AA20192</td>\n",
       "      <td>AA</td>\n",
       "      <td>2019</td>\n",
       "      <td>2</td>\n",
       "      <td>7.174577</td>\n",
       "      <td>70153995.0</td>\n",
       "      <td>130.015327</td>\n",
       "      <td>264286537.0</td>\n",
       "      <td>6.815415</td>\n",
       "    </tr>\n",
       "    <tr>\n",
       "      <th>43</th>\n",
       "      <td>AA20193</td>\n",
       "      <td>AA</td>\n",
       "      <td>2019</td>\n",
       "      <td>3</td>\n",
       "      <td>6.077932</td>\n",
       "      <td>79942508.0</td>\n",
       "      <td>140.728808</td>\n",
       "      <td>301971007.0</td>\n",
       "      <td>6.313479</td>\n",
       "    </tr>\n",
       "    <tr>\n",
       "      <th>44</th>\n",
       "      <td>AA20194</td>\n",
       "      <td>AA</td>\n",
       "      <td>2019</td>\n",
       "      <td>4</td>\n",
       "      <td>7.956655</td>\n",
       "      <td>75458050.0</td>\n",
       "      <td>140.650547</td>\n",
       "      <td>291008622.0</td>\n",
       "      <td>6.449456</td>\n",
       "    </tr>\n",
       "    <tr>\n",
       "      <th>45</th>\n",
       "      <td>AA20195</td>\n",
       "      <td>AA</td>\n",
       "      <td>2019</td>\n",
       "      <td>5</td>\n",
       "      <td>14.069385</td>\n",
       "      <td>80517489.0</td>\n",
       "      <td>141.924649</td>\n",
       "      <td>319972133.0</td>\n",
       "      <td>6.586100</td>\n",
       "    </tr>\n",
       "    <tr>\n",
       "      <th>46</th>\n",
       "      <td>AA20196</td>\n",
       "      <td>AA</td>\n",
       "      <td>2019</td>\n",
       "      <td>6</td>\n",
       "      <td>15.290937</td>\n",
       "      <td>80947454.0</td>\n",
       "      <td>147.104581</td>\n",
       "      <td>327437203.0</td>\n",
       "      <td>6.467894</td>\n",
       "    </tr>\n",
       "    <tr>\n",
       "      <th>47</th>\n",
       "      <td>AA20197</td>\n",
       "      <td>AA</td>\n",
       "      <td>2019</td>\n",
       "      <td>7</td>\n",
       "      <td>10.070373</td>\n",
       "      <td>82983834.0</td>\n",
       "      <td>146.858823</td>\n",
       "      <td>338595043.0</td>\n",
       "      <td>6.535086</td>\n",
       "    </tr>\n",
       "    <tr>\n",
       "      <th>48</th>\n",
       "      <td>AA20198</td>\n",
       "      <td>AA</td>\n",
       "      <td>2019</td>\n",
       "      <td>8</td>\n",
       "      <td>9.249289</td>\n",
       "      <td>83089383.0</td>\n",
       "      <td>142.304622</td>\n",
       "      <td>338196501.0</td>\n",
       "      <td>6.727734</td>\n",
       "    </tr>\n",
       "  </tbody>\n",
       "</table>\n",
       "</div>"
      ],
      "text/plain": [
       "   concat_key op_unique_carrier  fl_year  fl_month  arr_delay_mean  \\\n",
       "29    AA20181                AA     2018         1        0.429125   \n",
       "30    AA20182                AA     2018         2        2.009694   \n",
       "31    AA20183                AA     2018         3       -0.213830   \n",
       "32    AA20184                AA     2018         4        0.515217   \n",
       "33    AA20185                AA     2018         5        5.950072   \n",
       "34    AA20186                AA     2018         6        9.798884   \n",
       "35    AA20187                AA     2018         7       13.011832   \n",
       "36    AA20188                AA     2018         8       11.225474   \n",
       "37    AA20189                AA     2018         9        5.843163   \n",
       "38   AA201810                AA     2018        10        6.403908   \n",
       "39   AA201811                AA     2018        11        4.923866   \n",
       "40   AA201812                AA     2018        12        3.895508   \n",
       "41    AA20191                AA     2019         1        3.279720   \n",
       "42    AA20192                AA     2019         2        7.174577   \n",
       "43    AA20193                AA     2019         3        6.077932   \n",
       "44    AA20194                AA     2019         4        7.956655   \n",
       "45    AA20195                AA     2019         5       14.069385   \n",
       "46    AA20196                AA     2019         6       15.290937   \n",
       "47    AA20197                AA     2019         7       10.070373   \n",
       "48    AA20198                AA     2019         8        9.249289   \n",
       "\n",
       "    distance_total  pax_per_flight  total_gallons  litres_per_pax_per_100km  \n",
       "29      73930041.0      126.262798    283974071.0                  7.155609  \n",
       "30      69007046.0      127.451266    261946387.0                  7.005499  \n",
       "31      79512758.0      135.099365    298906244.0                  6.544992  \n",
       "32      75093912.0      134.422841    297784292.0                  6.938862  \n",
       "33      79376480.0      136.011181    318954880.0                  6.949076  \n",
       "34      81807311.0      139.273604    327277749.0                  6.756469  \n",
       "35      84899409.0      142.384418    341082450.0                  6.636766  \n",
       "36      83291459.0      136.980473    334937605.0                  6.905085  \n",
       "37      75823308.0      128.108857    302313376.0                  7.320483  \n",
       "38      78648799.0      134.653057    309826329.0                  6.881360  \n",
       "39      73510755.0      133.766389    275209633.0                  6.583093  \n",
       "40      76798306.0      128.225781    292016200.0                  6.975000  \n",
       "41      76054688.0      127.791767    286544730.0                  6.934702  \n",
       "42      70153995.0      130.015327    264286537.0                  6.815415  \n",
       "43      79942508.0      140.728808    301971007.0                  6.313479  \n",
       "44      75458050.0      140.650547    291008622.0                  6.449456  \n",
       "45      80517489.0      141.924649    319972133.0                  6.586100  \n",
       "46      80947454.0      147.104581    327437203.0                  6.467894  \n",
       "47      82983834.0      146.858823    338595043.0                  6.535086  \n",
       "48      83089383.0      142.304622    338196501.0                  6.727734  "
      ]
     },
     "execution_count": 36,
     "metadata": {},
     "output_type": "execute_result"
    }
   ],
   "source": [
    "df_task10.head(20)"
   ]
  },
  {
   "cell_type": "code",
   "execution_count": 37,
   "metadata": {},
   "outputs": [],
   "source": [
    "import seaborn as sns\n",
    "import matplotlib.pyplot as plt\n",
    "%matplotlib inline"
   ]
  },
  {
   "cell_type": "code",
   "execution_count": 38,
   "metadata": {},
   "outputs": [],
   "source": [
    "import numpy as np"
   ]
  },
  {
   "cell_type": "code",
   "execution_count": 39,
   "metadata": {},
   "outputs": [
    {
     "data": {
      "text/plain": [
       "array([[ 1.        , -0.22183515],\n",
       "       [-0.22183515,  1.        ]])"
      ]
     },
     "execution_count": 39,
     "metadata": {},
     "output_type": "execute_result"
    }
   ],
   "source": [
    "np.corrcoef(df_task10[~df_task10['op_unique_carrier'].isin(['YX'])]['arr_delay_mean'], \\\n",
    "            df_task10[~df_task10['op_unique_carrier'].isin(['YX'])]['litres_per_pax_per_100km'])"
   ]
  },
  {
   "cell_type": "code",
   "execution_count": 40,
   "metadata": {},
   "outputs": [],
   "source": [
    "import scipy.stats as stats"
   ]
  },
  {
   "cell_type": "code",
   "execution_count": 41,
   "metadata": {},
   "outputs": [],
   "source": [
    "z_delay = stats.zscore(df_task10[~df_task10['op_unique_carrier'].isin(['YX'])]['arr_delay_mean'])\n",
    "z_fuel = stats.zscore(df_task10[~df_task10['op_unique_carrier'].isin(['YX'])]['litres_per_pax_per_100km'])"
   ]
  },
  {
   "cell_type": "code",
   "execution_count": 45,
   "metadata": {},
   "outputs": [
    {
     "data": {
      "image/png": "[encoded data removed]",
      "text/plain": [
       "<Figure size 504x504 with 1 Axes>"
      ]
     },
     "metadata": {
      "needs_background": "light"
     },
     "output_type": "display_data"
    }
   ],
   "source": [
    "plt.figure(figsize=(7,7))\n",
    "\n",
    "\n",
    "#create basic scatterplot\n",
    "plt.plot(z_delay, z_fuel, 'o')\n",
    "\n",
    "#obtain m (slope) and b(intercept) of linear regression line\n",
    "m, b = np.polyfit(z_delay, z_fuel, 1)\n",
    "\n",
    "#add linear regression line to scatterplot \n",
    "plt.plot(z_delay, m*z_delay+b, color='r')\n",
    "plt.title('Correlation: ' + str(m))\n",
    "plt.ylabel('Litres per passenger per 100km')\n",
    "plt.xlabel('Arrival delay')\n",
    "plt.grid(True)\n",
    "plt.show()"
   ]
  },
  {
   "cell_type": "code",
   "execution_count": 46,
   "metadata": {},
   "outputs": [
    {
     "data": {
      "image/png": "[encoded data removed]",
      "text/plain": [
       "<Figure size 504x504 with 1 Axes>"
      ]
     },
     "metadata": {
      "needs_background": "light"
     },
     "output_type": "display_data"
    }
   ],
   "source": [
    "plt.figure(figsize=(7,7))\n",
    "\n",
    "\n",
    "x = df_task10[~df_task10['op_unique_carrier'].isin(['YX'])]['arr_delay_mean']\n",
    "y = df_task10[~df_task10['op_unique_carrier'].isin(['YX'])]['litres_per_pax_per_100km']\n",
    "\n",
    "\n",
    "#create basic scatterplot\n",
    "plt.plot(x, y, 'o')\n",
    "\n",
    "#obtain m (slope) and b(intercept) of linear regression line\n",
    "m, b = np.polyfit(x, y, 1)\n",
    "\n",
    "#add linear regression line to scatterplot \n",
    "plt.plot(x, m*x+b, color='r')\n",
    "plt.title('Beta: ' + str(m))\n",
    "plt.ylabel('Litres per passenger per 100km')\n",
    "plt.xlabel('Arrival delay')\n",
    "plt.grid(True)\n",
    "plt.show()"
   ]
  },
  {
   "cell_type": "code",
   "execution_count": 47,
   "metadata": {},
   "outputs": [],
   "source": [
    "import statsmodels.api as sm"
   ]
  },
  {
   "cell_type": "code",
   "execution_count": 48,
   "metadata": {},
   "outputs": [
    {
     "data": {
      "text/html": [
       "<table class=\"simpletable\">\n",
       "<caption>OLS Regression Results</caption>\n",
       "<tr>\n",
       "  <th>Dep. Variable:</th>    <td>litres_per_pax_per_100km</td> <th>  R-squared:         </th> <td>   0.049</td>\n",
       "</tr>\n",
       "<tr>\n",
       "  <th>Model:</th>                       <td>OLS</td>           <th>  Adj. R-squared:    </th> <td>   0.045</td>\n",
       "</tr>\n",
       "<tr>\n",
       "  <th>Method:</th>                 <td>Least Squares</td>      <th>  F-statistic:       </th> <td>   11.85</td>\n",
       "</tr>\n",
       "<tr>\n",
       "  <th>Date:</th>                 <td>Thu, 22 Oct 2020</td>     <th>  Prob (F-statistic):</th> <td>0.000684</td>\n",
       "</tr>\n",
       "<tr>\n",
       "  <th>Time:</th>                     <td>21:05:08</td>         <th>  Log-Likelihood:    </th> <td> -479.89</td>\n",
       "</tr>\n",
       "<tr>\n",
       "  <th>No. Observations:</th>          <td>   231</td>          <th>  AIC:               </th> <td>   963.8</td>\n",
       "</tr>\n",
       "<tr>\n",
       "  <th>Df Residuals:</th>              <td>   229</td>          <th>  BIC:               </th> <td>   970.7</td>\n",
       "</tr>\n",
       "<tr>\n",
       "  <th>Df Model:</th>                  <td>     1</td>          <th>                     </th>     <td> </td>   \n",
       "</tr>\n",
       "<tr>\n",
       "  <th>Covariance Type:</th>          <td>nonrobust</td>        <th>                     </th>     <td> </td>   \n",
       "</tr>\n",
       "</table>\n",
       "<table class=\"simpletable\">\n",
       "<tr>\n",
       "         <td></td>           <th>coef</th>     <th>std err</th>      <th>t</th>      <th>P>|t|</th>  <th>[0.025</th>    <th>0.975]</th>  \n",
       "</tr>\n",
       "<tr>\n",
       "  <th>const</th>          <td>    5.3173</td> <td>    0.178</td> <td>   29.820</td> <td> 0.000</td> <td>    4.966</td> <td>    5.669</td>\n",
       "</tr>\n",
       "<tr>\n",
       "  <th>arr_delay_mean</th> <td>   -0.0729</td> <td>    0.021</td> <td>   -3.443</td> <td> 0.001</td> <td>   -0.115</td> <td>   -0.031</td>\n",
       "</tr>\n",
       "</table>\n",
       "<table class=\"simpletable\">\n",
       "<tr>\n",
       "  <th>Omnibus:</th>       <td>16.239</td> <th>  Durbin-Watson:     </th> <td>   0.175</td>\n",
       "</tr>\n",
       "<tr>\n",
       "  <th>Prob(Omnibus):</th> <td> 0.000</td> <th>  Jarque-Bera (JB):  </th> <td>   6.603</td>\n",
       "</tr>\n",
       "<tr>\n",
       "  <th>Skew:</th>          <td> 0.124</td> <th>  Prob(JB):          </th> <td>  0.0368</td>\n",
       "</tr>\n",
       "<tr>\n",
       "  <th>Kurtosis:</th>      <td> 2.210</td> <th>  Cond. No.          </th> <td>    11.8</td>\n",
       "</tr>\n",
       "</table><br/><br/>Warnings:<br/>[1] Standard Errors assume that the covariance matrix of the errors is correctly specified."
      ],
      "text/plain": [
       "<class 'statsmodels.iolib.summary.Summary'>\n",
       "\"\"\"\n",
       "                               OLS Regression Results                               \n",
       "====================================================================================\n",
       "Dep. Variable:     litres_per_pax_per_100km   R-squared:                       0.049\n",
       "Model:                                  OLS   Adj. R-squared:                  0.045\n",
       "Method:                       Least Squares   F-statistic:                     11.85\n",
       "Date:                      Thu, 22 Oct 2020   Prob (F-statistic):           0.000684\n",
       "Time:                              21:05:08   Log-Likelihood:                -479.89\n",
       "No. Observations:                       231   AIC:                             963.8\n",
       "Df Residuals:                           229   BIC:                             970.7\n",
       "Df Model:                                 1                                         \n",
       "Covariance Type:                  nonrobust                                         \n",
       "==================================================================================\n",
       "                     coef    std err          t      P>|t|      [0.025      0.975]\n",
       "----------------------------------------------------------------------------------\n",
       "const              5.3173      0.178     29.820      0.000       4.966       5.669\n",
       "arr_delay_mean    -0.0729      0.021     -3.443      0.001      -0.115      -0.031\n",
       "==============================================================================\n",
       "Omnibus:                       16.239   Durbin-Watson:                   0.175\n",
       "Prob(Omnibus):                  0.000   Jarque-Bera (JB):                6.603\n",
       "Skew:                           0.124   Prob(JB):                       0.0368\n",
       "Kurtosis:                       2.210   Cond. No.                         11.8\n",
       "==============================================================================\n",
       "\n",
       "Warnings:\n",
       "[1] Standard Errors assume that the covariance matrix of the errors is correctly specified.\n",
       "\"\"\""
      ]
     },
     "execution_count": 48,
     "metadata": {},
     "output_type": "execute_result"
    }
   ],
   "source": [
    "x = sm.add_constant(x)\n",
    "model = sm.OLS(y, x)\n",
    "results = model.fit()\n",
    "results.summary()"
   ]
  },
  {
   "cell_type": "markdown",
   "metadata": {},
   "source": [
    "# "
   ]
  },
  {
   "cell_type": "markdown",
   "metadata": {},
   "source": [
    "# There is a slight negative relationship between fuel consumption and delay time, but the relationship is not significant. \n",
    "\n",
    "# This slight relationship can be explained by noting the when there is a delay, we do find that the plane excelerate but they can only excelerate by so much since they are already traveling close to optimal speed."
   ]
  },
  {
   "cell_type": "code",
   "execution_count": null,
   "metadata": {},
   "outputs": [],
   "source": []
  }
 ],
 "metadata": {
  "kernelspec": {
   "display_name": "Python 3",
   "language": "python",
   "name": "python3"
  },
  "language_info": {
   "codemirror_mode": {
    "name": "ipython",
    "version": 3
   },
   "file_extension": ".py",
   "mimetype": "text/x-python",
   "name": "python",
   "nbconvert_exporter": "python",
   "pygments_lexer": "ipython3",
   "version": "3.8.3"
  }
 },
 "nbformat": 4,
 "nbformat_minor": 4
}
