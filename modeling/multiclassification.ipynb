{
  "nbformat": 4,
  "nbformat_minor": 0,
  "metadata": {
    "language_info": {
      "codemirror_mode": {
        "name": "ipython",
        "version": 3
      },
      "file_extension": ".py",
      "mimetype": "text/x-python",
      "name": "python",
      "nbconvert_exporter": "python",
      "pygments_lexer": "ipython3",
      "version": "3.8.2-final"
    },
    "orig_nbformat": 2,
    "kernelspec": {
      "name": "Python 3.8.2 64-bit",
      "display_name": "Python 3.8.2 64-bit",
      "metadata": {
        "interpreter": {
          "hash": "31f2aee4e71d21fbe5cf8b01ff0e069b9275f58929596ceb00d14d90e3e16cd6"
        }
      }
    },
    "colab": {
      "name": "multiclassification.ipynb",
      "provenance": [],
      "collapsed_sections": [],
      "toc_visible": true
    }
  },
  "cells": [
    {
      "cell_type": "markdown",
      "metadata": {
        "id": "qwp2eYlHOe1v"
      },
      "source": [
        "### Multiclass Classification**\n",
        "If the plane was delayed, we will predict what type of delay it is (will be).\n",
        "\n",
        "The target variables are **CARRIER_DELAY, WEATHER_DELAY, NAS_DELAY, SECURITY_DELAY, LATE_AIRCRAFT_DELAY**. We need to do additional transformations because these variables are not binary but continuos. For each flight that was delayed, we need to have one of these variables as 1 and others 0.\n",
        "\n",
        "It can happen that we have two types of delays with more than 0 minutes. In this case, take the bigger one as 1 and others as 0."
      ]
    },
    {
      "cell_type": "markdown",
      "metadata": {
        "id": "gUt38w1JrpW6"
      },
      "source": [
        ""
      ]
    },
    {
      "cell_type": "code",
      "metadata": {
        "id": "CbXI_6AcOe1y",
        "outputId": "c190d5cb-4346-4914-db10-0c6f336e7ae3",
        "colab": {
          "base_uri": "https://localhost:8080/",
          "height": 71
        }
      },
      "source": [
        "import pandas as pd\n",
        "import numpy as np\n",
        "import psycopg2\n",
        "import matplotlib.pyplot as plt\n",
        "import seaborn as sns\n",
        "from sklearn.preprocessing import StandardScaler\n",
        "from ma_functions import *"
      ],
      "execution_count": 1,
      "outputs": []
    },
    {
      "cell_type": "code",
      "metadata": {
        "id": "Tg9inJ3bOe1_",
        "outputId": "91468103-5189-43d6-b4a8-eabc9f11f372",
        "colab": {
          "base_uri": "https://localhost:8080/",
          "height": 34
        }
      },
      "source": [
        "con = psycopg2.connect(database=\"mid_term_project\", user=\"lhl_student\", password=\"lhl_student\", host=\"mid-term-project.ca2jkepgjpne.us-east-2.rds.amazonaws.com\", port=\"5432\")\n",
        "\n",
        "print(\"Database opened successfully\")\n"
      ],
      "execution_count": 2,
      "outputs": [
        {
          "output_type": "stream",
          "name": "stdout",
          "text": [
            "Database opened successfully\n"
          ]
        }
      ]
    },
    {
      "cell_type": "code",
      "metadata": {
        "id": "b5FiAT0zOe2G"
      },
      "source": [
        "def sql_execute(sql,con):\n",
        "    cur = con.cursor()\n",
        "    cur.execute(sql)\n",
        "    print(\"Table created successfully\")\n",
        "    con.commit()\n",
        "    con.close()\n",
        "\n",
        "def sql_read(sql,con):\n",
        "    return pd.read_sql(sql,con)"
      ],
      "execution_count": 3,
      "outputs": []
    },
    {
      "cell_type": "code",
      "metadata": {
        "id": "8wuWBKiZOe2O",
        "outputId": "1b4fa2c5-5f13-4b4a-9470-08177555b508",
        "colab": {
          "base_uri": "https://localhost:8080/",
          "height": 609
        }
      },
      "source": [
        "query='''\n",
        "SELECT fl_date,\n",
        "dep_time,\n",
        "op_unique_carrier,\n",
        "origin_airport_id,\n",
        "dest_airport_id,\n",
        "taxi_out,\n",
        "arr_delay,\n",
        "taxi_in,\n",
        "distance,\n",
        "air_time,\n",
        "crs_elapsed_time,\n",
        "origin_city_name,\n",
        "dest_city_name,\n",
        "crs_dep_time,\n",
        "crs_arr_time,\n",
        "dep_delay,\n",
        "carrier_delay,\n",
        "weather_delay,\n",
        "nas_delay,\n",
        "security_delay,\n",
        "late_aircraft_delay\n",
        "FROM flights\n",
        "LIMIT 100000\n",
        "'''\n",
        "X_delays=sql_read(query,con)\n",
        "X_delays"
      ],
      "execution_count": 4,
      "outputs": [
        {
          "output_type": "execute_result",
          "data": {
            "text/plain": [
              "          fl_date  dep_time op_unique_carrier  origin_airport_id  \\\n",
              "0      2018-07-24    1615.0                UA              14635   \n",
              "1      2018-07-24    1044.0                UA              12264   \n",
              "2      2018-07-24     816.0                UA              11618   \n",
              "3      2018-07-24    2125.0                UA              13930   \n",
              "4      2018-07-24    1422.0                UA              14107   \n",
              "...           ...       ...               ...                ...   \n",
              "99995  2018-07-28    1227.0                OO              11433   \n",
              "99996  2018-07-28     829.0                OO              11433   \n",
              "99997  2018-07-28    1008.0                OO              14730   \n",
              "99998  2018-07-28    1552.0                OO              13277   \n",
              "99999  2018-07-28    1546.0                OO              11433   \n",
              "\n",
              "       dest_airport_id  taxi_out  arr_delay  taxi_in  distance  air_time  ...  \\\n",
              "0                13930      13.0      -21.0     17.0    1120.0     158.0  ...   \n",
              "1                15304      22.0      125.0      4.0     811.0     112.0  ...   \n",
              "2                13930      45.0      131.0     12.0     719.0     126.0  ...   \n",
              "3                12264      47.0       29.0      4.0     588.0      82.0  ...   \n",
              "4                13930      13.0       -3.0     20.0    1440.0     181.0  ...   \n",
              "...                ...       ...        ...      ...       ...       ...  ...   \n",
              "99995            11995      15.0      -10.0      7.0     460.0      70.0  ...   \n",
              "99996            14730      17.0       -1.0      4.0     306.0      51.0  ...   \n",
              "99997            11433      18.0       -1.0      2.0     306.0      60.0  ...   \n",
              "99998            10397      12.0      -20.0      8.0     147.0      32.0  ...   \n",
              "99999            14730      27.0       -2.0      8.0     306.0      52.0  ...   \n",
              "\n",
              "       origin_city_name             dest_city_name crs_dep_time  crs_arr_time  \\\n",
              "0        Fort Myers, FL                Chicago, IL         1625          1844   \n",
              "1        Washington, DC                  Tampa, FL          847          1057   \n",
              "2            Newark, NJ                Chicago, IL          639           808   \n",
              "3           Chicago, IL             Washington, DC         2123             9   \n",
              "4           Phoenix, AZ                Chicago, IL         1425          1959   \n",
              "...                 ...                        ...          ...           ...   \n",
              "99995       Detroit, MI  Greensboro/High Point, NC         1230          1409   \n",
              "99996       Detroit, MI             Louisville, KY          820           942   \n",
              "99997    Louisville, KY                Detroit, MI         1007          1129   \n",
              "99998    Montgomery, AL                Atlanta, GA         1600          1804   \n",
              "99999       Detroit, MI             Louisville, KY         1551          1715   \n",
              "\n",
              "       dep_delay  carrier_delay  weather_delay  nas_delay  security_delay  \\\n",
              "0          -10.0            NaN            NaN        NaN             NaN   \n",
              "1          117.0            0.0            0.0        8.0             0.0   \n",
              "2           97.0           97.0            0.0       34.0             0.0   \n",
              "3            2.0            0.0            0.0       29.0             0.0   \n",
              "4           -3.0            NaN            NaN        NaN             NaN   \n",
              "...          ...            ...            ...        ...             ...   \n",
              "99995       -3.0            NaN            NaN        NaN             NaN   \n",
              "99996        9.0            NaN            NaN        NaN             NaN   \n",
              "99997        1.0            NaN            NaN        NaN             NaN   \n",
              "99998       -8.0            NaN            NaN        NaN             NaN   \n",
              "99999       -5.0            NaN            NaN        NaN             NaN   \n",
              "\n",
              "       late_aircraft_delay  \n",
              "0                      NaN  \n",
              "1                    117.0  \n",
              "2                      0.0  \n",
              "3                      0.0  \n",
              "4                      NaN  \n",
              "...                    ...  \n",
              "99995                  NaN  \n",
              "99996                  NaN  \n",
              "99997                  NaN  \n",
              "99998                  NaN  \n",
              "99999                  NaN  \n",
              "\n",
              "[100000 rows x 21 columns]"
            ],
            "text/html": "<div>\n<style scoped>\n    .dataframe tbody tr th:only-of-type {\n        vertical-align: middle;\n    }\n\n    .dataframe tbody tr th {\n        vertical-align: top;\n    }\n\n    .dataframe thead th {\n        text-align: right;\n    }\n</style>\n<table border=\"1\" class=\"dataframe\">\n  <thead>\n    <tr style=\"text-align: right;\">\n      <th></th>\n      <th>fl_date</th>\n      <th>dep_time</th>\n      <th>op_unique_carrier</th>\n      <th>origin_airport_id</th>\n      <th>dest_airport_id</th>\n      <th>taxi_out</th>\n      <th>arr_delay</th>\n      <th>taxi_in</th>\n      <th>distance</th>\n      <th>air_time</th>\n      <th>...</th>\n      <th>origin_city_name</th>\n      <th>dest_city_name</th>\n      <th>crs_dep_time</th>\n      <th>crs_arr_time</th>\n      <th>dep_delay</th>\n      <th>carrier_delay</th>\n      <th>weather_delay</th>\n      <th>nas_delay</th>\n      <th>security_delay</th>\n      <th>late_aircraft_delay</th>\n    </tr>\n  </thead>\n  <tbody>\n    <tr>\n      <th>0</th>\n      <td>2018-07-24</td>\n      <td>1615.0</td>\n      <td>UA</td>\n      <td>14635</td>\n      <td>13930</td>\n      <td>13.0</td>\n      <td>-21.0</td>\n      <td>17.0</td>\n      <td>1120.0</td>\n      <td>158.0</td>\n      <td>...</td>\n      <td>Fort Myers, FL</td>\n      <td>Chicago, IL</td>\n      <td>1625</td>\n      <td>1844</td>\n      <td>-10.0</td>\n      <td>NaN</td>\n      <td>NaN</td>\n      <td>NaN</td>\n      <td>NaN</td>\n      <td>NaN</td>\n    </tr>\n    <tr>\n      <th>1</th>\n      <td>2018-07-24</td>\n      <td>1044.0</td>\n      <td>UA</td>\n      <td>12264</td>\n      <td>15304</td>\n      <td>22.0</td>\n      <td>125.0</td>\n      <td>4.0</td>\n      <td>811.0</td>\n      <td>112.0</td>\n      <td>...</td>\n      <td>Washington, DC</td>\n      <td>Tampa, FL</td>\n      <td>847</td>\n      <td>1057</td>\n      <td>117.0</td>\n      <td>0.0</td>\n      <td>0.0</td>\n      <td>8.0</td>\n      <td>0.0</td>\n      <td>117.0</td>\n    </tr>\n    <tr>\n      <th>2</th>\n      <td>2018-07-24</td>\n      <td>816.0</td>\n      <td>UA</td>\n      <td>11618</td>\n      <td>13930</td>\n      <td>45.0</td>\n      <td>131.0</td>\n      <td>12.0</td>\n      <td>719.0</td>\n      <td>126.0</td>\n      <td>...</td>\n      <td>Newark, NJ</td>\n      <td>Chicago, IL</td>\n      <td>639</td>\n      <td>808</td>\n      <td>97.0</td>\n      <td>97.0</td>\n      <td>0.0</td>\n      <td>34.0</td>\n      <td>0.0</td>\n      <td>0.0</td>\n    </tr>\n    <tr>\n      <th>3</th>\n      <td>2018-07-24</td>\n      <td>2125.0</td>\n      <td>UA</td>\n      <td>13930</td>\n      <td>12264</td>\n      <td>47.0</td>\n      <td>29.0</td>\n      <td>4.0</td>\n      <td>588.0</td>\n      <td>82.0</td>\n      <td>...</td>\n      <td>Chicago, IL</td>\n      <td>Washington, DC</td>\n      <td>2123</td>\n      <td>9</td>\n      <td>2.0</td>\n      <td>0.0</td>\n      <td>0.0</td>\n      <td>29.0</td>\n      <td>0.0</td>\n      <td>0.0</td>\n    </tr>\n    <tr>\n      <th>4</th>\n      <td>2018-07-24</td>\n      <td>1422.0</td>\n      <td>UA</td>\n      <td>14107</td>\n      <td>13930</td>\n      <td>13.0</td>\n      <td>-3.0</td>\n      <td>20.0</td>\n      <td>1440.0</td>\n      <td>181.0</td>\n      <td>...</td>\n      <td>Phoenix, AZ</td>\n      <td>Chicago, IL</td>\n      <td>1425</td>\n      <td>1959</td>\n      <td>-3.0</td>\n      <td>NaN</td>\n      <td>NaN</td>\n      <td>NaN</td>\n      <td>NaN</td>\n      <td>NaN</td>\n    </tr>\n    <tr>\n      <th>...</th>\n      <td>...</td>\n      <td>...</td>\n      <td>...</td>\n      <td>...</td>\n      <td>...</td>\n      <td>...</td>\n      <td>...</td>\n      <td>...</td>\n      <td>...</td>\n      <td>...</td>\n      <td>...</td>\n      <td>...</td>\n      <td>...</td>\n      <td>...</td>\n      <td>...</td>\n      <td>...</td>\n      <td>...</td>\n      <td>...</td>\n      <td>...</td>\n      <td>...</td>\n      <td>...</td>\n    </tr>\n    <tr>\n      <th>99995</th>\n      <td>2018-07-28</td>\n      <td>1227.0</td>\n      <td>OO</td>\n      <td>11433</td>\n      <td>11995</td>\n      <td>15.0</td>\n      <td>-10.0</td>\n      <td>7.0</td>\n      <td>460.0</td>\n      <td>70.0</td>\n      <td>...</td>\n      <td>Detroit, MI</td>\n      <td>Greensboro/High Point, NC</td>\n      <td>1230</td>\n      <td>1409</td>\n      <td>-3.0</td>\n      <td>NaN</td>\n      <td>NaN</td>\n      <td>NaN</td>\n      <td>NaN</td>\n      <td>NaN</td>\n    </tr>\n    <tr>\n      <th>99996</th>\n      <td>2018-07-28</td>\n      <td>829.0</td>\n      <td>OO</td>\n      <td>11433</td>\n      <td>14730</td>\n      <td>17.0</td>\n      <td>-1.0</td>\n      <td>4.0</td>\n      <td>306.0</td>\n      <td>51.0</td>\n      <td>...</td>\n      <td>Detroit, MI</td>\n      <td>Louisville, KY</td>\n      <td>820</td>\n      <td>942</td>\n      <td>9.0</td>\n      <td>NaN</td>\n      <td>NaN</td>\n      <td>NaN</td>\n      <td>NaN</td>\n      <td>NaN</td>\n    </tr>\n    <tr>\n      <th>99997</th>\n      <td>2018-07-28</td>\n      <td>1008.0</td>\n      <td>OO</td>\n      <td>14730</td>\n      <td>11433</td>\n      <td>18.0</td>\n      <td>-1.0</td>\n      <td>2.0</td>\n      <td>306.0</td>\n      <td>60.0</td>\n      <td>...</td>\n      <td>Louisville, KY</td>\n      <td>Detroit, MI</td>\n      <td>1007</td>\n      <td>1129</td>\n      <td>1.0</td>\n      <td>NaN</td>\n      <td>NaN</td>\n      <td>NaN</td>\n      <td>NaN</td>\n      <td>NaN</td>\n    </tr>\n    <tr>\n      <th>99998</th>\n      <td>2018-07-28</td>\n      <td>1552.0</td>\n      <td>OO</td>\n      <td>13277</td>\n      <td>10397</td>\n      <td>12.0</td>\n      <td>-20.0</td>\n      <td>8.0</td>\n      <td>147.0</td>\n      <td>32.0</td>\n      <td>...</td>\n      <td>Montgomery, AL</td>\n      <td>Atlanta, GA</td>\n      <td>1600</td>\n      <td>1804</td>\n      <td>-8.0</td>\n      <td>NaN</td>\n      <td>NaN</td>\n      <td>NaN</td>\n      <td>NaN</td>\n      <td>NaN</td>\n    </tr>\n    <tr>\n      <th>99999</th>\n      <td>2018-07-28</td>\n      <td>1546.0</td>\n      <td>OO</td>\n      <td>11433</td>\n      <td>14730</td>\n      <td>27.0</td>\n      <td>-2.0</td>\n      <td>8.0</td>\n      <td>306.0</td>\n      <td>52.0</td>\n      <td>...</td>\n      <td>Detroit, MI</td>\n      <td>Louisville, KY</td>\n      <td>1551</td>\n      <td>1715</td>\n      <td>-5.0</td>\n      <td>NaN</td>\n      <td>NaN</td>\n      <td>NaN</td>\n      <td>NaN</td>\n      <td>NaN</td>\n    </tr>\n  </tbody>\n</table>\n<p>100000 rows × 21 columns</p>\n</div>"
          },
          "metadata": {},
          "execution_count": 4
        }
      ]
    },
    {
      "cell_type": "code",
      "metadata": {
        "id": "-SiKLGN_QZ-n"
      },
      "source": [],
      "execution_count": 5,
      "outputs": []
    },
    {
      "cell_type": "code",
      "metadata": {
        "id": "TWIofoQ6Oe2T",
        "outputId": "f7bdfc5d-6304-4de2-83ce-bdbddc6c4a91",
        "colab": {
          "base_uri": "https://localhost:8080/",
          "height": 255
        }
      },
      "source": [
        "X_delays=getStatistics(X_delays)\n",
        "X_delays.columns"
      ],
      "execution_count": 5,
      "outputs": [
        {
          "output_type": "execute_result",
          "data": {
            "text/plain": [
              "Index(['fl_date', 'origin_airport_id', 'dep_hr', 'op_unique_carrier',\n",
              "       'dep_time', 'dest_airport_id', 'taxi_out', 'arr_delay', 'taxi_in',\n",
              "       'distance', 'air_time', 'crs_elapsed_time', 'origin_city_name',\n",
              "       'dest_city_name', 'crs_dep_time', 'crs_arr_time', 'dep_delay',\n",
              "       'carrier_delay', 'weather_delay', 'nas_delay', 'security_delay',\n",
              "       'late_aircraft_delay', 'airport_30D_avg_dep_delay',\n",
              "       'airport_30D_avg_arr_delay', 'airport_30D_min_dep_delay',\n",
              "       'airport_30D_max_dep_delay', 'airport_30D_min_arr_delay',\n",
              "       'airport_30D_max_arr_delay', 'carrier_30D_avg_dep_delay',\n",
              "       'carrier_30D_avg_arr_delay', 'carrier_30D_min_dep_delay',\n",
              "       'carrier_30D_max_dep_delay', 'carrier_30D_min_arr_delay',\n",
              "       'carrier_30D_max_arr_delay', 'arr_hr', 'airport_30D_avg_taxi_out',\n",
              "       'airport_30D_avg_taxi_in'],\n",
              "      dtype='object')"
            ]
          },
          "metadata": {},
          "execution_count": 5
        }
      ]
    },
    {
      "cell_type": "code",
      "metadata": {
        "id": "HOcBZ_k2Oe2Y"
      },
      "source": [
        "weather_df=pd.read_csv('weather_data_complete.csv')\n",
        "def getWeather(date,city):\n",
        "    weather=0\n",
        "    try:\n",
        "        str=weather_df[weather_df['Date']==date][city].values[0]\n",
        "    except:\n",
        "        city=city[-2:]\n",
        "        for i in weather_df.columns:\n",
        "            if city in i:\n",
        "                city=i\n",
        "                break\n",
        "        str=weather_df[weather_df['Date']==date][city].values[0]\n",
        "            \n",
        "    \n",
        "    if 'Clear' in str:\n",
        "        weather=0\n",
        "    else:\n",
        "        if 'Rain' in str:\n",
        "            weather=2\n",
        "        elif 'Snow' in str:\n",
        "            weather=3\n",
        "        else:\n",
        "            weather=1\n",
        "    return weather"
      ],
      "execution_count": 9,
      "outputs": []
    },
    {
      "cell_type": "code",
      "metadata": {
        "id": "-j9DnWnmOe2t"
      },
      "source": [
        "X_delays['weather_code_org']=X_delays['fl_date'].combine(X_delays['origin_city_name'], func=getWeather)\n",
        "X_delays['weather_code_dest']=X_delays['fl_date'].combine(X_delays['dest_city_name'], func=getWeather)"
      ],
      "execution_count": 10,
      "outputs": []
    },
    {
      "cell_type": "code",
      "metadata": {
        "id": "mbN0Mm3POe20"
      },
      "source": [
        "X_delays['airport_30D_avg_dep_delay']=X_delays['airport_30D_avg_dep_delay'].fillna(0)\n",
        "X_delays['airport_30D_avg_arr_delay']=X_delays['airport_30D_avg_arr_delay'].fillna(0)\n",
        "X_delays['airport_30D_min_dep_delay']=X_delays['airport_30D_min_dep_delay'].fillna(0)\n",
        "X_delays['airport_30D_max_dep_delay']=X_delays['airport_30D_max_dep_delay'].fillna(0)\n",
        "X_delays['airport_30D_min_arr_delay']=X_delays['airport_30D_min_arr_delay'].fillna(0)\n",
        "X_delays['airport_30D_max_arr_delay']=X_delays['airport_30D_max_arr_delay'].fillna(0)\n",
        "\n",
        "X_delays['carrier_30D_avg_dep_delay']=X_delays['airport_30D_avg_dep_delay'].fillna(0)\n",
        "X_delays['carrier_30D_avg_arr_delay']=X_delays['carrier_30D_avg_arr_delay'].fillna(0)\n",
        "X_delays['carrier_30D_min_dep_delay']= X_delays['carrier_30D_min_dep_delay'].fillna(0)\n",
        "X_delays['carrier_30D_max_dep_delay']=X_delays['carrier_30D_max_dep_delay'].fillna(0)\n",
        "X_delays['airport_30D_max_dep_delay']=X_delays['airport_30D_max_dep_delay'].fillna(0)\n",
        "X_delays['carrier_30D_min_arr_delay']=X_delays['carrier_30D_min_arr_delay'].fillna(0)\n",
        "X_delays['carrier_30D_max_arr_delay']=X_delays['carrier_30D_max_arr_delay'].fillna(0)\n",
        "\n",
        "X_delays['airport_30D_avg_taxi_out']=X_delays['airport_30D_avg_taxi_out'].fillna(0)\n",
        "X_delays['airport_30D_avg_taxi_in']=X_delays['airport_30D_avg_taxi_in'].fillna(0)\n",
        "\n",
        "#X_delays.isnull().any()\n",
        "X_delays=X_delays[~(X_delays['air_time'].isnull())]\n",
        "X_delays=X_delays.reset_index(drop=True)"
      ],
      "execution_count": 11,
      "outputs": []
    },
    {
      "cell_type": "code",
      "metadata": {
        "id": "Oy0Gst6eOe29",
        "outputId": "256c9689-cf04-4c5e-fe6a-4ce133abc052",
        "colab": {
          "base_uri": "https://localhost:8080/",
          "height": 255
        }
      },
      "source": [
        "X_delays.columns"
      ],
      "execution_count": 11,
      "outputs": [
        {
          "output_type": "execute_result",
          "data": {
            "text/plain": [
              "Index(['fl_date', 'origin_airport_id', 'dep_hr', 'op_unique_carrier',\n",
              "       'dep_time', 'dest_airport_id', 'taxi_out', 'arr_delay', 'taxi_in',\n",
              "       'distance', 'air_time', 'crs_elapsed_time', 'origin_city_name',\n",
              "       'dest_city_name', 'crs_dep_time', 'crs_arr_time', 'dep_delay',\n",
              "       'carrier_delay', 'weather_delay', 'nas_delay', 'security_delay',\n",
              "       'late_aircraft_delay', 'airport_30D_avg_dep_delay',\n",
              "       'airport_30D_avg_arr_delay', 'airport_30D_min_dep_delay',\n",
              "       'airport_30D_max_dep_delay', 'airport_30D_min_arr_delay',\n",
              "       'airport_30D_max_arr_delay', 'carrier_30D_avg_dep_delay',\n",
              "       'carrier_30D_avg_arr_delay', 'carrier_30D_min_dep_delay',\n",
              "       'carrier_30D_max_dep_delay', 'carrier_30D_min_arr_delay',\n",
              "       'carrier_30D_max_arr_delay', 'arr_hr', 'airport_30D_avg_taxi_out',\n",
              "       'airport_30D_avg_taxi_in', 'weather_code_org', 'weather_code_dest'],\n",
              "      dtype='object')"
            ]
          },
          "metadata": {},
          "execution_count": 11
        }
      ]
    },
    {
      "cell_type": "code",
      "metadata": {
        "id": "_JKnQa2NOe3C",
        "outputId": "07b6d790-4511-4ab5-fc2f-911eca5760b3",
        "colab": {
          "base_uri": "https://localhost:8080/",
          "height": 34
        }
      },
      "source": [
        "from sklearn import preprocessing\n",
        "le = preprocessing.LabelEncoder()\n",
        "le.fit(X_delays['op_unique_carrier'])"
      ],
      "execution_count": 12,
      "outputs": [
        {
          "output_type": "execute_result",
          "data": {
            "text/plain": [
              "LabelEncoder()"
            ]
          },
          "metadata": {},
          "execution_count": 12
        }
      ]
    },
    {
      "cell_type": "code",
      "metadata": {
        "id": "Zt2bM-AQOe3Q"
      },
      "source": [
        "X_delays['carrier']=le.transform(X_delays['op_unique_carrier'])"
      ],
      "execution_count": 13,
      "outputs": []
    },
    {
      "cell_type": "code",
      "metadata": {
        "id": "R8PC7YYJOe3V"
      },
      "source": [
        "X=X_delays[['fl_date', 'origin_airport_id', 'dep_hr', 'arr_hr','carrier','air_time', 'distance','dest_airport_id','distance','airport_30D_avg_dep_delay', 'airport_30D_avg_arr_delay',\n",
        "       'airport_30D_min_dep_delay', 'airport_30D_max_dep_delay',\n",
        "       'airport_30D_min_arr_delay', 'airport_30D_max_arr_delay',\n",
        "       'carrier_30D_avg_dep_delay', 'carrier_30D_avg_arr_delay',\n",
        "       'carrier_30D_min_dep_delay', 'carrier_30D_max_dep_delay',\n",
        "       'carrier_30D_min_arr_delay', 'carrier_30D_max_arr_delay', 'airport_30D_avg_taxi_out',\n",
        "       'airport_30D_avg_taxi_in','weather_code_org', 'weather_code_dest']]"
      ],
      "execution_count": 14,
      "outputs": []
    },
    {
      "cell_type": "code",
      "metadata": {
        "id": "i09HPtHpOe3Z",
        "outputId": "0eb4a57f-0b9c-4142-a80d-6388a089e0f9",
        "colab": {
          "base_uri": "https://localhost:8080/",
          "height": 459
        }
      },
      "source": [
        "X.isnull().sum()"
      ],
      "execution_count": 15,
      "outputs": [
        {
          "output_type": "execute_result",
          "data": {
            "text/plain": [
              "fl_date                      0\n",
              "origin_airport_id            0\n",
              "dep_hr                       0\n",
              "arr_hr                       0\n",
              "carrier                      0\n",
              "air_time                     0\n",
              "distance                     0\n",
              "dest_airport_id              0\n",
              "distance                     0\n",
              "airport_30D_avg_dep_delay    0\n",
              "airport_30D_avg_arr_delay    0\n",
              "airport_30D_min_dep_delay    0\n",
              "airport_30D_max_dep_delay    0\n",
              "airport_30D_min_arr_delay    0\n",
              "airport_30D_max_arr_delay    0\n",
              "carrier_30D_avg_dep_delay    0\n",
              "carrier_30D_avg_arr_delay    0\n",
              "carrier_30D_min_dep_delay    0\n",
              "carrier_30D_max_dep_delay    0\n",
              "carrier_30D_min_arr_delay    0\n",
              "carrier_30D_max_arr_delay    0\n",
              "airport_30D_avg_taxi_out     0\n",
              "airport_30D_avg_taxi_in      0\n",
              "weather_code_org             0\n",
              "weather_code_dest            0\n",
              "dtype: int64"
            ]
          },
          "metadata": {},
          "execution_count": 15
        }
      ]
    },
    {
      "cell_type": "code",
      "metadata": {
        "id": "0doFnOzWOe3i",
        "outputId": "8bb700f9-72cf-4e6d-ef3e-89edaff24cad",
        "colab": {
          "base_uri": "https://localhost:8080/",
          "height": 343
        }
      },
      "source": [
        "import datetime\n",
        "X['year'] = pd.DatetimeIndex(X['fl_date']).year\n",
        "X['month'] = pd.DatetimeIndex(X['fl_date']).month\n",
        "X['day'] = pd.DatetimeIndex(X['fl_date']).day\n",
        "X=X.drop('fl_date',axis=1)\n"
      ],
      "execution_count": 15,
      "outputs": []
    },
    {
      "cell_type": "code",
      "metadata": {
        "id": "nXsePHMmOe3m",
        "outputId": "0fd6ad81-b035-4f32-c7f8-736e63be474d",
        "colab": {
          "base_uri": "https://localhost:8080/",
          "height": 439
        }
      },
      "source": [
        "y=X_delays[['nas_delay','late_aircraft_delay','carrier_delay','weather_delay','security_delay']]\n",
        "y"
      ],
      "execution_count": 16,
      "outputs": [
        {
          "output_type": "execute_result",
          "data": {
            "text/plain": [
              "       nas_delay  late_aircraft_delay  carrier_delay  weather_delay  \\\n",
              "0            NaN                  NaN            NaN            NaN   \n",
              "1            8.0                117.0            0.0            0.0   \n",
              "2           34.0                  0.0           97.0            0.0   \n",
              "3           29.0                  0.0            0.0            0.0   \n",
              "4            NaN                  NaN            NaN            NaN   \n",
              "...          ...                  ...            ...            ...   \n",
              "96525        NaN                  NaN            NaN            NaN   \n",
              "96526        NaN                  NaN            NaN            NaN   \n",
              "96527        NaN                  NaN            NaN            NaN   \n",
              "96528        NaN                  NaN            NaN            NaN   \n",
              "96529        NaN                  NaN            NaN            NaN   \n",
              "\n",
              "       security_delay  \n",
              "0                 NaN  \n",
              "1                 0.0  \n",
              "2                 0.0  \n",
              "3                 0.0  \n",
              "4                 NaN  \n",
              "...               ...  \n",
              "96525             NaN  \n",
              "96526             NaN  \n",
              "96527             NaN  \n",
              "96528             NaN  \n",
              "96529             NaN  \n",
              "\n",
              "[96530 rows x 5 columns]"
            ],
            "text/html": "<div>\n<style scoped>\n    .dataframe tbody tr th:only-of-type {\n        vertical-align: middle;\n    }\n\n    .dataframe tbody tr th {\n        vertical-align: top;\n    }\n\n    .dataframe thead th {\n        text-align: right;\n    }\n</style>\n<table border=\"1\" class=\"dataframe\">\n  <thead>\n    <tr style=\"text-align: right;\">\n      <th></th>\n      <th>nas_delay</th>\n      <th>late_aircraft_delay</th>\n      <th>carrier_delay</th>\n      <th>weather_delay</th>\n      <th>security_delay</th>\n    </tr>\n  </thead>\n  <tbody>\n    <tr>\n      <th>0</th>\n      <td>NaN</td>\n      <td>NaN</td>\n      <td>NaN</td>\n      <td>NaN</td>\n      <td>NaN</td>\n    </tr>\n    <tr>\n      <th>1</th>\n      <td>8.0</td>\n      <td>117.0</td>\n      <td>0.0</td>\n      <td>0.0</td>\n      <td>0.0</td>\n    </tr>\n    <tr>\n      <th>2</th>\n      <td>34.0</td>\n      <td>0.0</td>\n      <td>97.0</td>\n      <td>0.0</td>\n      <td>0.0</td>\n    </tr>\n    <tr>\n      <th>3</th>\n      <td>29.0</td>\n      <td>0.0</td>\n      <td>0.0</td>\n      <td>0.0</td>\n      <td>0.0</td>\n    </tr>\n    <tr>\n      <th>4</th>\n      <td>NaN</td>\n      <td>NaN</td>\n      <td>NaN</td>\n      <td>NaN</td>\n      <td>NaN</td>\n    </tr>\n    <tr>\n      <th>...</th>\n      <td>...</td>\n      <td>...</td>\n      <td>...</td>\n      <td>...</td>\n      <td>...</td>\n    </tr>\n    <tr>\n      <th>96525</th>\n      <td>NaN</td>\n      <td>NaN</td>\n      <td>NaN</td>\n      <td>NaN</td>\n      <td>NaN</td>\n    </tr>\n    <tr>\n      <th>96526</th>\n      <td>NaN</td>\n      <td>NaN</td>\n      <td>NaN</td>\n      <td>NaN</td>\n      <td>NaN</td>\n    </tr>\n    <tr>\n      <th>96527</th>\n      <td>NaN</td>\n      <td>NaN</td>\n      <td>NaN</td>\n      <td>NaN</td>\n      <td>NaN</td>\n    </tr>\n    <tr>\n      <th>96528</th>\n      <td>NaN</td>\n      <td>NaN</td>\n      <td>NaN</td>\n      <td>NaN</td>\n      <td>NaN</td>\n    </tr>\n    <tr>\n      <th>96529</th>\n      <td>NaN</td>\n      <td>NaN</td>\n      <td>NaN</td>\n      <td>NaN</td>\n      <td>NaN</td>\n    </tr>\n  </tbody>\n</table>\n<p>96530 rows × 5 columns</p>\n</div>"
          },
          "metadata": {},
          "execution_count": 16
        }
      ]
    },
    {
      "cell_type": "code",
      "metadata": {
        "id": "RupGOpyZOe3q"
      },
      "source": [
        "delay_type=[]\n",
        "for i in y.index:\n",
        "    if y.loc[i].isnull().sum()==5:\n",
        "        delay_type.append('n/a')\n",
        "    else:\n",
        "        ini=0\n",
        "        for delay in y.loc[i].index:\n",
        "            if y.loc[i].loc[delay]>ini:\n",
        "                ini=y.loc[i].loc[delay]\n",
        "                d=delay\n",
        "            else:\n",
        "                pass\n",
        "        delay_type.append(d)\n",
        "    "
      ],
      "execution_count": 17,
      "outputs": []
    },
    {
      "cell_type": "code",
      "metadata": {
        "id": "I47Hy_Z-Oe3u"
      },
      "source": [
        "y=pd.DataFrame(delay_type,columns=['delay_type']).reset_index(drop=True)\n",
        "y=y.replace({\n",
        "    'n/a':0,\n",
        "    'late_aircraft_delay':1,\n",
        "    'nas_delay':2,\n",
        "'carrier_delay':3,\n",
        "'weather_delay':4,\n",
        "'security_delay':5\n",
        "})"
      ],
      "execution_count": 18,
      "outputs": []
    },
    {
      "cell_type": "code",
      "metadata": {
        "id": "DKAyS26XyZo3"
      },
      "source": [
        "y=y['delay_type']"
      ],
      "execution_count": 19,
      "outputs": []
    },
    {
      "cell_type": "code",
      "metadata": {
        "id": "UwHxkKhvOe4F",
        "outputId": "00178849-9679-4788-efc6-05230383f0c2",
        "colab": {
          "base_uri": "https://localhost:8080/",
          "height": 224
        }
      },
      "source": [
        "X.columns"
      ],
      "execution_count": 21,
      "outputs": [
        {
          "output_type": "execute_result",
          "data": {
            "text/plain": [
              "Index(['origin_airport_id', 'dep_hr', 'arr_hr', 'carrier', 'air_time',\n",
              "       'distance', 'dest_airport_id', 'distance', 'airport_30D_avg_dep_delay',\n",
              "       'airport_30D_avg_arr_delay', 'airport_30D_min_dep_delay',\n",
              "       'airport_30D_max_dep_delay', 'airport_30D_min_arr_delay',\n",
              "       'airport_30D_max_arr_delay', 'carrier_30D_avg_dep_delay',\n",
              "       'carrier_30D_avg_arr_delay', 'carrier_30D_min_dep_delay',\n",
              "       'carrier_30D_max_dep_delay', 'carrier_30D_min_arr_delay',\n",
              "       'carrier_30D_max_arr_delay', 'airport_30D_avg_taxi_out',\n",
              "       'airport_30D_avg_taxi_in', 'weather_code_org', 'weather_code_dest',\n",
              "       'year', 'month', 'day'],\n",
              "      dtype='object')"
            ]
          },
          "metadata": {},
          "execution_count": 21
        }
      ]
    },
    {
      "cell_type": "code",
      "metadata": {
        "id": "6G0ig923Oe4I"
      },
      "source": [
        "from sklearn.model_selection import train_test_split\n",
        "from sklearn import tree \n",
        "\n",
        "from sklearn.tree import DecisionTreeClassifier\n",
        "from sklearn.neighbors import KNeighborsClassifier\n",
        "from sklearn.ensemble import RandomForestClassifier\n",
        "from sklearn.svm import SVC\n",
        "from sklearn.linear_model import LogisticRegression\n",
        "from sklearn.naive_bayes import MultinomialNB\n",
        "from sklearn.naive_bayes import BernoulliNB\n",
        "from sklearn.naive_bayes import GaussianNB\n",
        "X_train, X_test, y_train, y_test = train_test_split(X, y, test_size=0.3, random_state=42)"
      ],
      "execution_count": 20,
      "outputs": []
    },
    {
      "cell_type": "code",
      "metadata": {
        "id": "qHV96GAWOe4V"
      },
      "source": [
        "results_dict = {'Classifier':[],\n",
        "                'Train Accuracy':[], \n",
        "                'Test Accuracy':[]\n",
        "               }\n",
        "\n",
        "models = {\n",
        "    'knn'           : KNeighborsClassifier(),\n",
        "    'decision tree' : DecisionTreeClassifier(),\n",
        "    'random forest' : RandomForestClassifier(n_estimators=10),\n",
        "    'SVM'           : SVC(gamma='scale'),\n",
        "    'logistic regression': LogisticRegression(),\n",
        "    #'Naive Bayes' : MultinomialNB()\n",
        "}                                                    "
      ],
      "execution_count": 21,
      "outputs": []
    },
    {
      "cell_type": "code",
      "metadata": {
        "id": "q3PANj8WOe4j",
        "outputId": "d708d2a3-c61a-4f77-b07f-5e1c6bfae5de",
        "colab": {
          "base_uri": "https://localhost:8080/",
          "height": 258
        }
      },
      "source": [
        "# Looping through models\n",
        "for model_name, model in models.items():\n",
        "    print(\"Fitting %s...\" % model_name)\n",
        "    model.fit(X_train, y_train);\n",
        "    train_accuracy = model.score(X_train, y_train)*100\n",
        "    test_accuracy = model.score(X_test, y_test)*100\n",
        "    results_dict['Classifier'].append(model_name)\n",
        "    results_dict['Train Accuracy'].append(train_accuracy)\n",
        "    results_dict['Test Accuracy'].append(test_accuracy)  \n",
        "    \n",
        "results_df = pd.DataFrame(results_dict)"
      ],
      "execution_count": 22,
      "outputs": [
        {
          "output_type": "stream",
          "name": "stdout",
          "text": [
            "Fitting knn...\n",
            "Fitting decision tree...\n",
            "Fitting random forest...\n",
            "Fitting SVM...\n",
            "Fitting logistic regression...\n"
          ]
        }
      ]
    },
    {
      "cell_type": "code",
      "metadata": {
        "id": "4sfOPqzGOe4z",
        "outputId": "2076650f-d50b-4f77-bb10-5e7cba04fd46",
        "colab": {
          "base_uri": "https://localhost:8080/",
          "height": 204
        }
      },
      "source": [
        "results_df"
      ],
      "execution_count": 23,
      "outputs": [
        {
          "output_type": "execute_result",
          "data": {
            "text/plain": [
              "            Classifier  Train Accuracy  Test Accuracy\n",
              "0                  knn       77.366030      73.206948\n",
              "1        decision tree       99.992600      63.686591\n",
              "2        random forest       97.729795      74.301599\n",
              "3                  SVM       74.619289      74.329224\n",
              "4  logistic regression       74.619289      74.329224"
            ],
            "text/html": "<div>\n<style scoped>\n    .dataframe tbody tr th:only-of-type {\n        vertical-align: middle;\n    }\n\n    .dataframe tbody tr th {\n        vertical-align: top;\n    }\n\n    .dataframe thead th {\n        text-align: right;\n    }\n</style>\n<table border=\"1\" class=\"dataframe\">\n  <thead>\n    <tr style=\"text-align: right;\">\n      <th></th>\n      <th>Classifier</th>\n      <th>Train Accuracy</th>\n      <th>Test Accuracy</th>\n    </tr>\n  </thead>\n  <tbody>\n    <tr>\n      <th>0</th>\n      <td>knn</td>\n      <td>77.366030</td>\n      <td>73.206948</td>\n    </tr>\n    <tr>\n      <th>1</th>\n      <td>decision tree</td>\n      <td>99.992600</td>\n      <td>63.686591</td>\n    </tr>\n    <tr>\n      <th>2</th>\n      <td>random forest</td>\n      <td>97.729795</td>\n      <td>74.301599</td>\n    </tr>\n    <tr>\n      <th>3</th>\n      <td>SVM</td>\n      <td>74.619289</td>\n      <td>74.329224</td>\n    </tr>\n    <tr>\n      <th>4</th>\n      <td>logistic regression</td>\n      <td>74.619289</td>\n      <td>74.329224</td>\n    </tr>\n  </tbody>\n</table>\n</div>"
          },
          "metadata": {},
          "execution_count": 23
        }
      ]
    },
    {
      "cell_type": "code",
      "metadata": {
        "id": "2oyYYciprC_w"
      },
      "source": [
        "from sklearn import svm\n",
        "from sklearn.model_selection import GridSearchCV"
      ],
      "execution_count": 24,
      "outputs": []
    },
    {
      "cell_type": "code",
      "metadata": {
        "id": "bNjVXJN3Oe47",
        "outputId": "8fe73993-08e6-4738-e755-b86eb4daeb05",
        "colab": {
          "base_uri": "https://localhost:8080/",
          "height": 68
        }
      },
      "source": [
        "# KNN\n",
        "knn = KNeighborsClassifier()\n",
        "knears_params = {\"n_neighbors\": list(range(2,5,1)), 'algorithm': ['auto', 'ball_tree', 'kd_tree', 'brute']}\n",
        "\n",
        "grid_knears = GridSearchCV(KNeighborsClassifier(), knears_params)\n",
        "grid_knears.fit(X_train, y_train)\n",
        "# KNears best estimator\n",
        "knears_neighbors = grid_knears.best_estimator_\n",
        "knears_neighbors\n"
      ],
      "execution_count": 25,
      "outputs": [
        {
          "output_type": "execute_result",
          "data": {
            "text/plain": [
              "KNeighborsClassifier(n_neighbors=4)"
            ]
          },
          "metadata": {},
          "execution_count": 25
        }
      ]
    },
    {
      "cell_type": "code",
      "metadata": {
        "id": "HZmXJ9w7sc9l"
      },
      "source": [
        "knn=knears_neighbors\n",
        "knn.fit(X_train,y_train)\n",
        "y_knn_pred=knn.predict(X_test)"
      ],
      "execution_count": 26,
      "outputs": []
    },
    {
      "cell_type": "code",
      "metadata": {
        "id": "ONkil5GcslfG"
      },
      "source": [
        "from sklearn.metrics import mean_squared_error\n",
        "from collections import Counter"
      ],
      "execution_count": 27,
      "outputs": []
    },
    {
      "cell_type": "code",
      "metadata": {
        "id": "YOcru0y8s4C8",
        "outputId": "2be3b7d0-0235-48d1-8073-44d3710a7ceb",
        "colab": {
          "base_uri": "https://localhost:8080/",
          "height": 34
        }
      },
      "source": [
        "Counter(y_knn_pred)"
      ],
      "execution_count": 28,
      "outputs": [
        {
          "output_type": "execute_result",
          "data": {
            "text/plain": [
              "Counter({0: 26871, 1: 950, 3: 349, 2: 727, 4: 62})"
            ]
          },
          "metadata": {},
          "execution_count": 28
        }
      ]
    },
    {
      "cell_type": "code",
      "metadata": {
        "id": "FOeaVn0fOe5C",
        "outputId": "6fdeecfb-d2c4-4f6e-f689-4477a3eb9d98",
        "colab": {
          "base_uri": "https://localhost:8080/",
          "height": 34
        }
      },
      "source": [
        "model.score(X_test, y_knn_pred)"
      ],
      "execution_count": 29,
      "outputs": [
        {
          "output_type": "execute_result",
          "data": {
            "text/plain": [
              "0.9278980627784108"
            ]
          },
          "metadata": {},
          "execution_count": 29
        }
      ]
    },
    {
      "cell_type": "code",
      "metadata": {
        "id": "an7f_KAptqnw",
        "outputId": "23f6748f-5550-4dbd-de79-5825df1054b6",
        "colab": {
          "base_uri": "https://localhost:8080/",
          "height": 1000
        }
      },
      "source": [
        "#logistic\n",
        "log_reg_params = {\"penalty\": ['l1', 'l2'], 'C': [0.001, 0.01, 0.1, 1, 10, 100, 1000]}\n",
        "grid_log_reg = GridSearchCV(LogisticRegression(), log_reg_params)\n",
        "grid_log_reg.fit(X_train, y_train)\n",
        "\n",
        "log_reg = grid_log_reg.best_estimator_"
      ],
      "execution_count": 30,
      "outputs": []
    },
    {
      "cell_type": "code",
      "execution_count": 31,
      "metadata": {},
      "outputs": [
        {
          "output_type": "execute_result",
          "data": {
            "text/plain": [
              "LogisticRegression(C=0.001)"
            ]
          },
          "metadata": {},
          "execution_count": 31
        }
      ],
      "source": [
        "log_reg"
      ]
    },
    {
      "cell_type": "code",
      "metadata": {
        "id": "3AlCqGZmy-ou",
        "outputId": "f860fb33-1145-423e-bbad-fbc2b6b22564",
        "colab": {
          "base_uri": "https://localhost:8080/",
          "height": 190
        }
      },
      "source": [
        "lgr_opt=log_reg\n",
        "log_reg.fit(X_train,y_train)\n",
        "y_log_pred=log_reg.predict(X_test)\n",
        "model.score(X_test, y_log_pred)"
      ],
      "execution_count": 32,
      "outputs": [
        {
          "output_type": "execute_result",
          "data": {
            "text/plain": [
              "1.0"
            ]
          },
          "metadata": {},
          "execution_count": 32
        }
      ]
    },
    {
      "cell_type": "code",
      "execution_count": 33,
      "metadata": {},
      "outputs": [
        {
          "output_type": "execute_result",
          "data": {
            "text/plain": [
              "Counter({0: 28959})"
            ]
          },
          "metadata": {},
          "execution_count": 33
        }
      ],
      "source": [
        "Counter(y_log_pred)"
      ]
    },
    {
      "cell_type": "code",
      "execution_count": null,
      "metadata": {},
      "outputs": [],
      "source": []
    }
  ]
}